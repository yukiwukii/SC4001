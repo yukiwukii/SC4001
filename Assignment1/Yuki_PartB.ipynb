{
 "cells": [
  {
   "cell_type": "markdown",
   "metadata": {
    "id": "jnRX6LUnqBpw"
   },
   "source": [
    "CS4001/4042 Assignment 1\n",
    "---\n",
    "Part B, Q1 (15 marks)\n",
    "---\n",
    "\n",
    "Real world datasets often have a mix of numeric and categorical features – this dataset is one example. To build models on such data, categorical features have to be encoded or embedded.\n",
    "\n",
    "PyTorch Tabular is a library that makes it very convenient to build neural networks for tabular data. It is built on top of PyTorch Lightning, which abstracts away boilerplate model training code and makes it easy to integrate other tools, e.g. TensorBoard for experiment tracking.\n",
    "\n",
    "For questions B1 and B2, the following features should be used:   \n",
    "- **Numeric / Continuous** features: dist_to_nearest_stn, dist_to_dhoby, degree_centrality, eigenvector_centrality, remaining_lease_years, floor_area_sqm\n",
    "- **Categorical** features: month, town, flat_model_type, storey_range"
   ]
  },
  {
   "cell_type": "markdown",
   "metadata": {},
   "source": [
    "\n",
    "\n",
    "---\n",
    "\n"
   ]
  },
  {
   "cell_type": "code",
   "execution_count": 1,
   "metadata": {
    "id": "jA67PbIY3PnH"
   },
   "outputs": [
    {
     "name": "stdout",
     "output_type": "stream",
     "text": [
      "Requirement already satisfied: pytorch_tabular[extra] in ./.venv/lib/python3.11/site-packages (1.1.1)\n",
      "Requirement already satisfied: torch>=1.11.0 in ./.venv/lib/python3.11/site-packages (from pytorch_tabular[extra]) (2.5.1)\n",
      "Requirement already satisfied: numpy<2.0,>1.20.0 in ./.venv/lib/python3.11/site-packages (from pytorch_tabular[extra]) (1.26.4)\n",
      "Requirement already satisfied: pandas>=1.1.5 in ./.venv/lib/python3.11/site-packages (from pytorch_tabular[extra]) (2.2.3)\n",
      "Requirement already satisfied: scikit-learn>=1.3.0 in ./.venv/lib/python3.11/site-packages (from pytorch_tabular[extra]) (1.6.1)\n",
      "Requirement already satisfied: pytorch-lightning<2.5.0,>=2.0.0 in ./.venv/lib/python3.11/site-packages (from pytorch_tabular[extra]) (2.4.0)\n",
      "Requirement already satisfied: omegaconf>=2.3.0 in ./.venv/lib/python3.11/site-packages (from pytorch_tabular[extra]) (2.3.0)\n",
      "Requirement already satisfied: torchmetrics<1.6.0,>=0.10.0 in ./.venv/lib/python3.11/site-packages (from pytorch_tabular[extra]) (1.5.2)\n",
      "Requirement already satisfied: tensorboard!=2.5.0,>2.2.0 in ./.venv/lib/python3.11/site-packages (from pytorch_tabular[extra]) (2.19.0)\n",
      "Requirement already satisfied: protobuf<5.29.0,>=3.20.0 in ./.venv/lib/python3.11/site-packages (from pytorch_tabular[extra]) (5.28.3)\n",
      "Requirement already satisfied: pytorch-tabnet==4.1 in ./.venv/lib/python3.11/site-packages (from pytorch_tabular[extra]) (4.1.0)\n",
      "Requirement already satisfied: PyYAML<6.1.0,>=5.4 in ./.venv/lib/python3.11/site-packages (from pytorch_tabular[extra]) (6.0.2)\n",
      "Requirement already satisfied: matplotlib>3.1 in ./.venv/lib/python3.11/site-packages (from pytorch_tabular[extra]) (3.10.1)\n",
      "Requirement already satisfied: ipywidgets in ./.venv/lib/python3.11/site-packages (from pytorch_tabular[extra]) (8.1.5)\n",
      "Requirement already satisfied: einops<0.8.0,>=0.6.0 in ./.venv/lib/python3.11/site-packages (from pytorch_tabular[extra]) (0.7.0)\n",
      "Requirement already satisfied: rich>=11.0.0 in ./.venv/lib/python3.11/site-packages (from pytorch_tabular[extra]) (13.9.4)\n",
      "Requirement already satisfied: wandb<0.19.0,>=0.15.0 in ./.venv/lib/python3.11/site-packages (from pytorch_tabular[extra]) (0.18.7)\n",
      "Requirement already satisfied: plotly<5.25.0,>=5.13.0 in ./.venv/lib/python3.11/site-packages (from pytorch_tabular[extra]) (5.24.1)\n",
      "Requirement already satisfied: kaleido<0.3.0,>=0.2.0 in ./.venv/lib/python3.11/site-packages (from pytorch_tabular[extra]) (0.2.1)\n",
      "Requirement already satisfied: captum<0.8.0,>=0.5.0 in ./.venv/lib/python3.11/site-packages (from pytorch_tabular[extra]) (0.7.0)\n",
      "Requirement already satisfied: scipy>1.4 in ./.venv/lib/python3.11/site-packages (from pytorch-tabnet==4.1->pytorch_tabular[extra]) (1.12.0)\n",
      "Requirement already satisfied: tqdm>=4.36 in ./.venv/lib/python3.11/site-packages (from pytorch-tabnet==4.1->pytorch_tabular[extra]) (4.67.1)\n",
      "Requirement already satisfied: contourpy>=1.0.1 in ./.venv/lib/python3.11/site-packages (from matplotlib>3.1->pytorch_tabular[extra]) (1.3.1)\n",
      "Requirement already satisfied: cycler>=0.10 in ./.venv/lib/python3.11/site-packages (from matplotlib>3.1->pytorch_tabular[extra]) (0.12.1)\n",
      "Requirement already satisfied: fonttools>=4.22.0 in ./.venv/lib/python3.11/site-packages (from matplotlib>3.1->pytorch_tabular[extra]) (4.56.0)\n",
      "Requirement already satisfied: kiwisolver>=1.3.1 in ./.venv/lib/python3.11/site-packages (from matplotlib>3.1->pytorch_tabular[extra]) (1.4.8)\n",
      "Requirement already satisfied: packaging>=20.0 in ./.venv/lib/python3.11/site-packages (from matplotlib>3.1->pytorch_tabular[extra]) (24.2)\n",
      "Requirement already satisfied: pillow>=8 in ./.venv/lib/python3.11/site-packages (from matplotlib>3.1->pytorch_tabular[extra]) (10.4.0)\n",
      "Requirement already satisfied: pyparsing>=2.3.1 in ./.venv/lib/python3.11/site-packages (from matplotlib>3.1->pytorch_tabular[extra]) (3.2.1)\n",
      "Requirement already satisfied: python-dateutil>=2.7 in ./.venv/lib/python3.11/site-packages (from matplotlib>3.1->pytorch_tabular[extra]) (2.9.0.post0)\n",
      "Requirement already satisfied: antlr4-python3-runtime==4.9.* in ./.venv/lib/python3.11/site-packages (from omegaconf>=2.3.0->pytorch_tabular[extra]) (4.9.3)\n",
      "Requirement already satisfied: pytz>=2020.1 in ./.venv/lib/python3.11/site-packages (from pandas>=1.1.5->pytorch_tabular[extra]) (2025.1)\n",
      "Requirement already satisfied: tzdata>=2022.7 in ./.venv/lib/python3.11/site-packages (from pandas>=1.1.5->pytorch_tabular[extra]) (2025.1)\n",
      "Requirement already satisfied: tenacity>=6.2.0 in ./.venv/lib/python3.11/site-packages (from plotly<5.25.0,>=5.13.0->pytorch_tabular[extra]) (9.0.0)\n",
      "Requirement already satisfied: fsspec>=2022.5.0 in ./.venv/lib/python3.11/site-packages (from fsspec[http]>=2022.5.0->pytorch-lightning<2.5.0,>=2.0.0->pytorch_tabular[extra]) (2025.2.0)\n",
      "Requirement already satisfied: typing-extensions>=4.4.0 in ./.venv/lib/python3.11/site-packages (from pytorch-lightning<2.5.0,>=2.0.0->pytorch_tabular[extra]) (4.12.2)\n",
      "Requirement already satisfied: lightning-utilities>=0.10.0 in ./.venv/lib/python3.11/site-packages (from pytorch-lightning<2.5.0,>=2.0.0->pytorch_tabular[extra]) (0.14.0)\n",
      "Requirement already satisfied: markdown-it-py>=2.2.0 in ./.venv/lib/python3.11/site-packages (from rich>=11.0.0->pytorch_tabular[extra]) (3.0.0)\n",
      "Requirement already satisfied: pygments<3.0.0,>=2.13.0 in ./.venv/lib/python3.11/site-packages (from rich>=11.0.0->pytorch_tabular[extra]) (2.19.1)\n",
      "Requirement already satisfied: joblib>=1.2.0 in ./.venv/lib/python3.11/site-packages (from scikit-learn>=1.3.0->pytorch_tabular[extra]) (1.4.2)\n",
      "Requirement already satisfied: threadpoolctl>=3.1.0 in ./.venv/lib/python3.11/site-packages (from scikit-learn>=1.3.0->pytorch_tabular[extra]) (3.5.0)\n",
      "Requirement already satisfied: absl-py>=0.4 in ./.venv/lib/python3.11/site-packages (from tensorboard!=2.5.0,>2.2.0->pytorch_tabular[extra]) (2.1.0)\n",
      "Requirement already satisfied: grpcio>=1.48.2 in ./.venv/lib/python3.11/site-packages (from tensorboard!=2.5.0,>2.2.0->pytorch_tabular[extra]) (1.70.0)\n",
      "Requirement already satisfied: markdown>=2.6.8 in ./.venv/lib/python3.11/site-packages (from tensorboard!=2.5.0,>2.2.0->pytorch_tabular[extra]) (3.7)\n",
      "Requirement already satisfied: setuptools>=41.0.0 in ./.venv/lib/python3.11/site-packages (from tensorboard!=2.5.0,>2.2.0->pytorch_tabular[extra]) (75.6.0)\n",
      "Requirement already satisfied: six>1.9 in ./.venv/lib/python3.11/site-packages (from tensorboard!=2.5.0,>2.2.0->pytorch_tabular[extra]) (1.17.0)\n",
      "Requirement already satisfied: tensorboard-data-server<0.8.0,>=0.7.0 in ./.venv/lib/python3.11/site-packages (from tensorboard!=2.5.0,>2.2.0->pytorch_tabular[extra]) (0.7.2)\n",
      "Requirement already satisfied: werkzeug>=1.0.1 in ./.venv/lib/python3.11/site-packages (from tensorboard!=2.5.0,>2.2.0->pytorch_tabular[extra]) (3.1.3)\n",
      "Requirement already satisfied: filelock in ./.venv/lib/python3.11/site-packages (from torch>=1.11.0->pytorch_tabular[extra]) (3.17.0)\n",
      "Requirement already satisfied: networkx in ./.venv/lib/python3.11/site-packages (from torch>=1.11.0->pytorch_tabular[extra]) (3.4.2)\n",
      "Requirement already satisfied: jinja2 in ./.venv/lib/python3.11/site-packages (from torch>=1.11.0->pytorch_tabular[extra]) (3.1.5)\n",
      "Requirement already satisfied: sympy==1.13.1 in ./.venv/lib/python3.11/site-packages (from torch>=1.11.0->pytorch_tabular[extra]) (1.13.1)\n",
      "Requirement already satisfied: mpmath<1.4,>=1.1.0 in ./.venv/lib/python3.11/site-packages (from sympy==1.13.1->torch>=1.11.0->pytorch_tabular[extra]) (1.3.0)\n",
      "Requirement already satisfied: click!=8.0.0,>=7.1 in ./.venv/lib/python3.11/site-packages (from wandb<0.19.0,>=0.15.0->pytorch_tabular[extra]) (8.1.8)\n",
      "Requirement already satisfied: docker-pycreds>=0.4.0 in ./.venv/lib/python3.11/site-packages (from wandb<0.19.0,>=0.15.0->pytorch_tabular[extra]) (0.4.0)\n",
      "Requirement already satisfied: gitpython!=3.1.29,>=1.0.0 in ./.venv/lib/python3.11/site-packages (from wandb<0.19.0,>=0.15.0->pytorch_tabular[extra]) (3.1.44)\n",
      "Requirement already satisfied: platformdirs in ./.venv/lib/python3.11/site-packages (from wandb<0.19.0,>=0.15.0->pytorch_tabular[extra]) (4.3.6)\n",
      "Requirement already satisfied: psutil>=5.0.0 in ./.venv/lib/python3.11/site-packages (from wandb<0.19.0,>=0.15.0->pytorch_tabular[extra]) (7.0.0)\n",
      "Requirement already satisfied: requests<3,>=2.0.0 in ./.venv/lib/python3.11/site-packages (from wandb<0.19.0,>=0.15.0->pytorch_tabular[extra]) (2.32.3)\n",
      "Requirement already satisfied: sentry-sdk>=2.0.0 in ./.venv/lib/python3.11/site-packages (from wandb<0.19.0,>=0.15.0->pytorch_tabular[extra]) (2.22.0)\n",
      "Requirement already satisfied: setproctitle in ./.venv/lib/python3.11/site-packages (from wandb<0.19.0,>=0.15.0->pytorch_tabular[extra]) (1.3.5)\n",
      "Requirement already satisfied: comm>=0.1.3 in ./.venv/lib/python3.11/site-packages (from ipywidgets->pytorch_tabular[extra]) (0.2.2)\n",
      "Requirement already satisfied: ipython>=6.1.0 in ./.venv/lib/python3.11/site-packages (from ipywidgets->pytorch_tabular[extra]) (9.0.1)\n",
      "Requirement already satisfied: traitlets>=4.3.1 in ./.venv/lib/python3.11/site-packages (from ipywidgets->pytorch_tabular[extra]) (5.14.3)\n",
      "Requirement already satisfied: widgetsnbextension~=4.0.12 in ./.venv/lib/python3.11/site-packages (from ipywidgets->pytorch_tabular[extra]) (4.0.13)\n",
      "Requirement already satisfied: jupyterlab-widgets~=3.0.12 in ./.venv/lib/python3.11/site-packages (from ipywidgets->pytorch_tabular[extra]) (3.0.13)\n",
      "Requirement already satisfied: aiohttp!=4.0.0a0,!=4.0.0a1 in ./.venv/lib/python3.11/site-packages (from fsspec[http]>=2022.5.0->pytorch-lightning<2.5.0,>=2.0.0->pytorch_tabular[extra]) (3.11.13)\n",
      "Requirement already satisfied: gitdb<5,>=4.0.1 in ./.venv/lib/python3.11/site-packages (from gitpython!=3.1.29,>=1.0.0->wandb<0.19.0,>=0.15.0->pytorch_tabular[extra]) (4.0.12)\n",
      "Requirement already satisfied: decorator in ./.venv/lib/python3.11/site-packages (from ipython>=6.1.0->ipywidgets->pytorch_tabular[extra]) (5.2.1)\n",
      "Requirement already satisfied: ipython-pygments-lexers in ./.venv/lib/python3.11/site-packages (from ipython>=6.1.0->ipywidgets->pytorch_tabular[extra]) (1.1.1)\n",
      "Requirement already satisfied: jedi>=0.16 in ./.venv/lib/python3.11/site-packages (from ipython>=6.1.0->ipywidgets->pytorch_tabular[extra]) (0.19.2)\n",
      "Requirement already satisfied: matplotlib-inline in ./.venv/lib/python3.11/site-packages (from ipython>=6.1.0->ipywidgets->pytorch_tabular[extra]) (0.1.7)\n",
      "Requirement already satisfied: pexpect>4.3 in ./.venv/lib/python3.11/site-packages (from ipython>=6.1.0->ipywidgets->pytorch_tabular[extra]) (4.9.0)\n",
      "Requirement already satisfied: prompt_toolkit<3.1.0,>=3.0.41 in ./.venv/lib/python3.11/site-packages (from ipython>=6.1.0->ipywidgets->pytorch_tabular[extra]) (3.0.50)\n",
      "Requirement already satisfied: stack_data in ./.venv/lib/python3.11/site-packages (from ipython>=6.1.0->ipywidgets->pytorch_tabular[extra]) (0.6.3)\n",
      "Requirement already satisfied: mdurl~=0.1 in ./.venv/lib/python3.11/site-packages (from markdown-it-py>=2.2.0->rich>=11.0.0->pytorch_tabular[extra]) (0.1.2)\n",
      "Requirement already satisfied: charset-normalizer<4,>=2 in ./.venv/lib/python3.11/site-packages (from requests<3,>=2.0.0->wandb<0.19.0,>=0.15.0->pytorch_tabular[extra]) (3.4.1)\n",
      "Requirement already satisfied: idna<4,>=2.5 in ./.venv/lib/python3.11/site-packages (from requests<3,>=2.0.0->wandb<0.19.0,>=0.15.0->pytorch_tabular[extra]) (3.10)\n",
      "Requirement already satisfied: urllib3<3,>=1.21.1 in ./.venv/lib/python3.11/site-packages (from requests<3,>=2.0.0->wandb<0.19.0,>=0.15.0->pytorch_tabular[extra]) (2.3.0)\n",
      "Requirement already satisfied: certifi>=2017.4.17 in ./.venv/lib/python3.11/site-packages (from requests<3,>=2.0.0->wandb<0.19.0,>=0.15.0->pytorch_tabular[extra]) (2025.1.31)\n",
      "Requirement already satisfied: MarkupSafe>=2.1.1 in ./.venv/lib/python3.11/site-packages (from werkzeug>=1.0.1->tensorboard!=2.5.0,>2.2.0->pytorch_tabular[extra]) (3.0.2)\n",
      "Requirement already satisfied: aiohappyeyeballs>=2.3.0 in ./.venv/lib/python3.11/site-packages (from aiohttp!=4.0.0a0,!=4.0.0a1->fsspec[http]>=2022.5.0->pytorch-lightning<2.5.0,>=2.0.0->pytorch_tabular[extra]) (2.5.0)\n",
      "Requirement already satisfied: aiosignal>=1.1.2 in ./.venv/lib/python3.11/site-packages (from aiohttp!=4.0.0a0,!=4.0.0a1->fsspec[http]>=2022.5.0->pytorch-lightning<2.5.0,>=2.0.0->pytorch_tabular[extra]) (1.3.2)\n",
      "Requirement already satisfied: attrs>=17.3.0 in ./.venv/lib/python3.11/site-packages (from aiohttp!=4.0.0a0,!=4.0.0a1->fsspec[http]>=2022.5.0->pytorch-lightning<2.5.0,>=2.0.0->pytorch_tabular[extra]) (25.1.0)\n",
      "Requirement already satisfied: frozenlist>=1.1.1 in ./.venv/lib/python3.11/site-packages (from aiohttp!=4.0.0a0,!=4.0.0a1->fsspec[http]>=2022.5.0->pytorch-lightning<2.5.0,>=2.0.0->pytorch_tabular[extra]) (1.5.0)\n",
      "Requirement already satisfied: multidict<7.0,>=4.5 in ./.venv/lib/python3.11/site-packages (from aiohttp!=4.0.0a0,!=4.0.0a1->fsspec[http]>=2022.5.0->pytorch-lightning<2.5.0,>=2.0.0->pytorch_tabular[extra]) (6.1.0)\n",
      "Requirement already satisfied: propcache>=0.2.0 in ./.venv/lib/python3.11/site-packages (from aiohttp!=4.0.0a0,!=4.0.0a1->fsspec[http]>=2022.5.0->pytorch-lightning<2.5.0,>=2.0.0->pytorch_tabular[extra]) (0.3.0)\n",
      "Requirement already satisfied: yarl<2.0,>=1.17.0 in ./.venv/lib/python3.11/site-packages (from aiohttp!=4.0.0a0,!=4.0.0a1->fsspec[http]>=2022.5.0->pytorch-lightning<2.5.0,>=2.0.0->pytorch_tabular[extra]) (1.18.3)\n",
      "Requirement already satisfied: smmap<6,>=3.0.1 in ./.venv/lib/python3.11/site-packages (from gitdb<5,>=4.0.1->gitpython!=3.1.29,>=1.0.0->wandb<0.19.0,>=0.15.0->pytorch_tabular[extra]) (5.0.2)\n",
      "Requirement already satisfied: parso<0.9.0,>=0.8.4 in ./.venv/lib/python3.11/site-packages (from jedi>=0.16->ipython>=6.1.0->ipywidgets->pytorch_tabular[extra]) (0.8.4)\n",
      "Requirement already satisfied: ptyprocess>=0.5 in ./.venv/lib/python3.11/site-packages (from pexpect>4.3->ipython>=6.1.0->ipywidgets->pytorch_tabular[extra]) (0.7.0)\n",
      "Requirement already satisfied: wcwidth in ./.venv/lib/python3.11/site-packages (from prompt_toolkit<3.1.0,>=3.0.41->ipython>=6.1.0->ipywidgets->pytorch_tabular[extra]) (0.2.13)\n",
      "Requirement already satisfied: executing>=1.2.0 in ./.venv/lib/python3.11/site-packages (from stack_data->ipython>=6.1.0->ipywidgets->pytorch_tabular[extra]) (2.2.0)\n",
      "Requirement already satisfied: asttokens>=2.1.0 in ./.venv/lib/python3.11/site-packages (from stack_data->ipython>=6.1.0->ipywidgets->pytorch_tabular[extra]) (3.0.0)\n",
      "Requirement already satisfied: pure-eval in ./.venv/lib/python3.11/site-packages (from stack_data->ipython>=6.1.0->ipywidgets->pytorch_tabular[extra]) (0.2.3)\n",
      "Note: you may need to restart the kernel to use updated packages.\n"
     ]
    }
   ],
   "source": [
    "pip install \"pytorch_tabular[extra]\""
   ]
  },
  {
   "cell_type": "code",
   "execution_count": 2,
   "metadata": {},
   "outputs": [
    {
     "name": "stdout",
     "output_type": "stream",
     "text": [
      "Found existing installation: torch 2.5.1\n",
      "Uninstalling torch-2.5.1:\n",
      "  Successfully uninstalled torch-2.5.1\n",
      "Note: you may need to restart the kernel to use updated packages.\n"
     ]
    }
   ],
   "source": [
    "pip uninstall \"torch\" -y"
   ]
  },
  {
   "cell_type": "code",
   "execution_count": 3,
   "metadata": {},
   "outputs": [
    {
     "name": "stdout",
     "output_type": "stream",
     "text": [
      "Collecting torch==2.5.1\n",
      "  Using cached torch-2.5.1-cp311-none-macosx_11_0_arm64.whl.metadata (28 kB)\n",
      "Requirement already satisfied: filelock in ./.venv/lib/python3.11/site-packages (from torch==2.5.1) (3.17.0)\n",
      "Requirement already satisfied: typing-extensions>=4.8.0 in ./.venv/lib/python3.11/site-packages (from torch==2.5.1) (4.12.2)\n",
      "Requirement already satisfied: networkx in ./.venv/lib/python3.11/site-packages (from torch==2.5.1) (3.4.2)\n",
      "Requirement already satisfied: jinja2 in ./.venv/lib/python3.11/site-packages (from torch==2.5.1) (3.1.5)\n",
      "Requirement already satisfied: fsspec in ./.venv/lib/python3.11/site-packages (from torch==2.5.1) (2025.2.0)\n",
      "Requirement already satisfied: sympy==1.13.1 in ./.venv/lib/python3.11/site-packages (from torch==2.5.1) (1.13.1)\n",
      "Requirement already satisfied: mpmath<1.4,>=1.1.0 in ./.venv/lib/python3.11/site-packages (from sympy==1.13.1->torch==2.5.1) (1.3.0)\n",
      "Requirement already satisfied: MarkupSafe>=2.0 in ./.venv/lib/python3.11/site-packages (from jinja2->torch==2.5.1) (3.0.2)\n",
      "Using cached torch-2.5.1-cp311-none-macosx_11_0_arm64.whl (63.9 MB)\n",
      "Installing collected packages: torch\n",
      "\u001b[31mERROR: pip's dependency resolver does not currently take into account all the packages that are installed. This behaviour is the source of the following dependency conflicts.\n",
      "torchvision 0.21.0 requires torch==2.6.0, but you have torch 2.5.1 which is incompatible.\u001b[0m\u001b[31m\n",
      "\u001b[0mSuccessfully installed torch-2.5.1\n",
      "Note: you may need to restart the kernel to use updated packages.\n"
     ]
    }
   ],
   "source": [
    "pip install torch==2.5.1"
   ]
  },
  {
   "cell_type": "code",
   "execution_count": 1,
   "metadata": {
    "id": "Jr6P3U7w3NVl"
   },
   "outputs": [],
   "source": [
    "SEED = 42\n",
    "\n",
    "import os\n",
    "\n",
    "import random\n",
    "random.seed(SEED)\n",
    "\n",
    "import numpy as np\n",
    "np.random.seed(SEED)\n",
    "\n",
    "import pandas as pd\n",
    "\n",
    "import torch\n",
    "import torch.nn as nn\n",
    "\n",
    "from pytorch_tabular import TabularModel\n",
    "from pytorch_tabular.models import CategoryEmbeddingModelConfig\n",
    "from pytorch_tabular.config import (\n",
    "    DataConfig,\n",
    "    OptimizerConfig,\n",
    "    TrainerConfig,\n",
    ")\n",
    "\n",
    "import warnings\n",
    "warnings.filterwarnings('ignore', category=FutureWarning)"
   ]
  },
  {
   "cell_type": "markdown",
   "metadata": {
    "id": "zGyEWcVlqKTz"
   },
   "source": [
    "> Divide the dataset (‘hdb_price_prediction.csv’) into train and test sets by using entries from year 2020 and before as training data, and year 2021 as test data (validation set is not required).\n",
    "**Do not** use data from year 2022 and year 2023.\n",
    "\n"
   ]
  },
  {
   "cell_type": "code",
   "execution_count": 2,
   "metadata": {
    "id": "hoCPcOWupw5Y"
   },
   "outputs": [],
   "source": [
    "df = pd.read_csv('hdb_price_prediction.csv')\n",
    "df_train = df[df['year'] <= 2020]\n",
    "df_test = df[df['year'] == 2021] "
   ]
  },
  {
   "cell_type": "markdown",
   "metadata": {
    "id": "sebMgSuzqPe7"
   },
   "source": [
    "> Refer to the documentation of **PyTorch Tabular** and perform the following tasks: https://pytorch-tabular.readthedocs.io/en/latest/#usage\n",
    "- Use **[DataConfig](https://pytorch-tabular.readthedocs.io/en/latest/data/)** to define the target variable, as well as the names of the continuous and categorical variables.\n",
    "- Use **[TrainerConfig](https://pytorch-tabular.readthedocs.io/en/latest/training/)** to automatically tune the learning rate. Set batch_size to be 1024 and set max_epoch as 50.\n",
    "- Use **[CategoryEmbeddingModelConfig](https://pytorch-tabular.readthedocs.io/en/latest/models/#category-embedding-model)** to create a feedforward neural network with 1 hidden layer containing 50 neurons.\n",
    "- Use **[OptimizerConfig](https://pytorch-tabular.readthedocs.io/en/latest/optimizer/)** to choose Adam optimiser. There is no need to set the learning rate (since it will be tuned automatically) nor scheduler.\n",
    "- Use **[TabularModel](https://pytorch-tabular.readthedocs.io/en/latest/tabular_model/)** to initialise the model and put all the configs together."
   ]
  },
  {
   "cell_type": "code",
   "execution_count": 3,
   "metadata": {
    "id": "ZZWAYdNhqPzh"
   },
   "outputs": [
    {
     "data": {
      "text/html": [
       "<pre style=\"white-space:pre;overflow-x:auto;line-height:normal;font-family:Menlo,'DejaVu Sans Mono',consolas,'Courier New',monospace\"><span style=\"color: #008080; text-decoration-color: #008080; font-weight: bold\">2025</span>-<span style=\"color: #008080; text-decoration-color: #008080; font-weight: bold\">03</span>-<span style=\"color: #008080; text-decoration-color: #008080; font-weight: bold\">11</span> <span style=\"color: #00ff00; text-decoration-color: #00ff00; font-weight: bold\">10:12:24</span>,<span style=\"color: #008080; text-decoration-color: #008080; font-weight: bold\">522</span> - <span style=\"font-weight: bold\">{</span>pytorch_tabular.tabular_model:<span style=\"color: #008080; text-decoration-color: #008080; font-weight: bold\">146</span><span style=\"font-weight: bold\">}</span> - INFO - Experiment Tracking is turned off           \n",
       "</pre>\n"
      ],
      "text/plain": [
       "\u001b[1;36m2025\u001b[0m-\u001b[1;36m03\u001b[0m-\u001b[1;36m11\u001b[0m \u001b[1;92m10:12:24\u001b[0m,\u001b[1;36m522\u001b[0m - \u001b[1m{\u001b[0mpytorch_tabular.tabular_model:\u001b[1;36m146\u001b[0m\u001b[1m}\u001b[0m - INFO - Experiment Tracking is turned off           \n"
      ]
     },
     "metadata": {},
     "output_type": "display_data"
    }
   ],
   "source": [
    "data_config = DataConfig(\n",
    "    target=[\"resale_price\"],\n",
    "    continuous_cols=[\"dist_to_nearest_stn\", \"dist_to_dhoby\", \"degree_centrality\",\n",
    "                     \"eigenvector_centrality\", \"remaining_lease_years\", \"floor_area_sqm\"],\n",
    "    categorical_cols=[\"month\", \"town\", \"flat_model_type\", \"storey_range\"]\n",
    ")\n",
    "\n",
    "trainer_config = TrainerConfig(batch_size=1024, max_epochs=50, accelerator=\"auto\", auto_lr_find=True)\n",
    "model_config = CategoryEmbeddingModelConfig(task=\"regression\", layers='50', seed=10, metrics=['mean_squared_error','r2_score'])\n",
    "optimizer_config = OptimizerConfig(optimizer='Adam')\n",
    "\n",
    "tabular_model = TabularModel(\n",
    "    data_config=data_config,\n",
    "    model_config=model_config,\n",
    "    optimizer_config=optimizer_config,\n",
    "    trainer_config=trainer_config,\n",
    ")"
   ]
  },
  {
   "cell_type": "markdown",
   "metadata": {
    "id": "-2UXPKq0qWQG"
   },
   "source": [
    "> Report the test RMSE error and the test R2 value that you obtained.\n",
    "\n"
   ]
  },
  {
   "cell_type": "code",
   "execution_count": 4,
   "metadata": {
    "id": "zmE9Bc7Nqadi"
   },
   "outputs": [
    {
     "name": "stderr",
     "output_type": "stream",
     "text": [
      "Seed set to 42\n"
     ]
    },
    {
     "data": {
      "text/html": [
       "<pre style=\"white-space:pre;overflow-x:auto;line-height:normal;font-family:Menlo,'DejaVu Sans Mono',consolas,'Courier New',monospace\"><span style=\"color: #008080; text-decoration-color: #008080; font-weight: bold\">2025</span>-<span style=\"color: #008080; text-decoration-color: #008080; font-weight: bold\">03</span>-<span style=\"color: #008080; text-decoration-color: #008080; font-weight: bold\">11</span> <span style=\"color: #00ff00; text-decoration-color: #00ff00; font-weight: bold\">10:12:27</span>,<span style=\"color: #008080; text-decoration-color: #008080; font-weight: bold\">259</span> - <span style=\"font-weight: bold\">{</span>pytorch_tabular.tabular_model:<span style=\"color: #008080; text-decoration-color: #008080; font-weight: bold\">548</span><span style=\"font-weight: bold\">}</span> - INFO - Preparing the DataLoaders                   \n",
       "</pre>\n"
      ],
      "text/plain": [
       "\u001b[1;36m2025\u001b[0m-\u001b[1;36m03\u001b[0m-\u001b[1;36m11\u001b[0m \u001b[1;92m10:12:27\u001b[0m,\u001b[1;36m259\u001b[0m - \u001b[1m{\u001b[0mpytorch_tabular.tabular_model:\u001b[1;36m548\u001b[0m\u001b[1m}\u001b[0m - INFO - Preparing the DataLoaders                   \n"
      ]
     },
     "metadata": {},
     "output_type": "display_data"
    },
    {
     "data": {
      "text/html": [
       "<pre style=\"white-space:pre;overflow-x:auto;line-height:normal;font-family:Menlo,'DejaVu Sans Mono',consolas,'Courier New',monospace\"><span style=\"color: #008080; text-decoration-color: #008080; font-weight: bold\">2025</span>-<span style=\"color: #008080; text-decoration-color: #008080; font-weight: bold\">03</span>-<span style=\"color: #008080; text-decoration-color: #008080; font-weight: bold\">11</span> <span style=\"color: #00ff00; text-decoration-color: #00ff00; font-weight: bold\">10:12:27</span>,<span style=\"color: #008080; text-decoration-color: #008080; font-weight: bold\">286</span> - <span style=\"font-weight: bold\">{</span>pytorch_tabular.tabular_datamodul<span style=\"color: #00ff00; text-decoration-color: #00ff00; font-weight: bold\">e:522</span><span style=\"font-weight: bold\">}</span> - INFO - Setting up the datamodule for          \n",
       "regression task                                                                                                    \n",
       "</pre>\n"
      ],
      "text/plain": [
       "\u001b[1;36m2025\u001b[0m-\u001b[1;36m03\u001b[0m-\u001b[1;36m11\u001b[0m \u001b[1;92m10:12:27\u001b[0m,\u001b[1;36m286\u001b[0m - \u001b[1m{\u001b[0mpytorch_tabular.tabular_datamodul\u001b[1;92me:522\u001b[0m\u001b[1m}\u001b[0m - INFO - Setting up the datamodule for          \n",
       "regression task                                                                                                    \n"
      ]
     },
     "metadata": {},
     "output_type": "display_data"
    },
    {
     "data": {
      "text/html": [
       "<pre style=\"white-space:pre;overflow-x:auto;line-height:normal;font-family:Menlo,'DejaVu Sans Mono',consolas,'Courier New',monospace\"><span style=\"color: #008080; text-decoration-color: #008080; font-weight: bold\">2025</span>-<span style=\"color: #008080; text-decoration-color: #008080; font-weight: bold\">03</span>-<span style=\"color: #008080; text-decoration-color: #008080; font-weight: bold\">11</span> <span style=\"color: #00ff00; text-decoration-color: #00ff00; font-weight: bold\">10:12:27</span>,<span style=\"color: #008080; text-decoration-color: #008080; font-weight: bold\">357</span> - <span style=\"font-weight: bold\">{</span>pytorch_tabular.tabular_model:<span style=\"color: #008080; text-decoration-color: #008080; font-weight: bold\">599</span><span style=\"font-weight: bold\">}</span> - INFO - Preparing the Model: CategoryEmbeddingModel \n",
       "</pre>\n"
      ],
      "text/plain": [
       "\u001b[1;36m2025\u001b[0m-\u001b[1;36m03\u001b[0m-\u001b[1;36m11\u001b[0m \u001b[1;92m10:12:27\u001b[0m,\u001b[1;36m357\u001b[0m - \u001b[1m{\u001b[0mpytorch_tabular.tabular_model:\u001b[1;36m599\u001b[0m\u001b[1m}\u001b[0m - INFO - Preparing the Model: CategoryEmbeddingModel \n"
      ]
     },
     "metadata": {},
     "output_type": "display_data"
    },
    {
     "data": {
      "text/html": [
       "<pre style=\"white-space:pre;overflow-x:auto;line-height:normal;font-family:Menlo,'DejaVu Sans Mono',consolas,'Courier New',monospace\"><span style=\"color: #008080; text-decoration-color: #008080; font-weight: bold\">2025</span>-<span style=\"color: #008080; text-decoration-color: #008080; font-weight: bold\">03</span>-<span style=\"color: #008080; text-decoration-color: #008080; font-weight: bold\">11</span> <span style=\"color: #00ff00; text-decoration-color: #00ff00; font-weight: bold\">10:12:27</span>,<span style=\"color: #008080; text-decoration-color: #008080; font-weight: bold\">380</span> - <span style=\"font-weight: bold\">{</span>pytorch_tabular.tabular_model:<span style=\"color: #008080; text-decoration-color: #008080; font-weight: bold\">342</span><span style=\"font-weight: bold\">}</span> - INFO - Preparing the Trainer                       \n",
       "</pre>\n"
      ],
      "text/plain": [
       "\u001b[1;36m2025\u001b[0m-\u001b[1;36m03\u001b[0m-\u001b[1;36m11\u001b[0m \u001b[1;92m10:12:27\u001b[0m,\u001b[1;36m380\u001b[0m - \u001b[1m{\u001b[0mpytorch_tabular.tabular_model:\u001b[1;36m342\u001b[0m\u001b[1m}\u001b[0m - INFO - Preparing the Trainer                       \n"
      ]
     },
     "metadata": {},
     "output_type": "display_data"
    },
    {
     "name": "stderr",
     "output_type": "stream",
     "text": [
      "GPU available: True (mps), used: True\n",
      "TPU available: False, using: 0 TPU cores\n",
      "HPU available: False, using: 0 HPUs\n"
     ]
    },
    {
     "data": {
      "text/html": [
       "<pre style=\"white-space:pre;overflow-x:auto;line-height:normal;font-family:Menlo,'DejaVu Sans Mono',consolas,'Courier New',monospace\"><span style=\"color: #008080; text-decoration-color: #008080; font-weight: bold\">2025</span>-<span style=\"color: #008080; text-decoration-color: #008080; font-weight: bold\">03</span>-<span style=\"color: #008080; text-decoration-color: #008080; font-weight: bold\">11</span> <span style=\"color: #00ff00; text-decoration-color: #00ff00; font-weight: bold\">10:12:27</span>,<span style=\"color: #008080; text-decoration-color: #008080; font-weight: bold\">417</span> - <span style=\"font-weight: bold\">{</span>pytorch_tabular.tabular_model:<span style=\"color: #008080; text-decoration-color: #008080; font-weight: bold\">656</span><span style=\"font-weight: bold\">}</span> - INFO - Auto LR Find Started                        \n",
       "</pre>\n"
      ],
      "text/plain": [
       "\u001b[1;36m2025\u001b[0m-\u001b[1;36m03\u001b[0m-\u001b[1;36m11\u001b[0m \u001b[1;92m10:12:27\u001b[0m,\u001b[1;36m417\u001b[0m - \u001b[1m{\u001b[0mpytorch_tabular.tabular_model:\u001b[1;36m656\u001b[0m\u001b[1m}\u001b[0m - INFO - Auto LR Find Started                        \n"
      ]
     },
     "metadata": {},
     "output_type": "display_data"
    },
    {
     "name": "stderr",
     "output_type": "stream",
     "text": [
      "/Users/yuki/Library/Mobile Documents/com~apple~CloudDocs/NTU/Y2S2/SC4001/Projects/Assignment1/.venv/lib/python3.11/site-packages/pytorch_lightning/callbacks/model_checkpoint.py:654: Checkpoint directory /Users/yuki/Library/Mobile Documents/com~apple~CloudDocs/NTU/Y2S2/SC4001/Projects/Assignment1/saved_models exists and is not empty.\n",
      "/Users/yuki/Library/Mobile Documents/com~apple~CloudDocs/NTU/Y2S2/SC4001/Projects/Assignment1/.venv/lib/python3.11/site-packages/pytorch_lightning/trainer/connectors/data_connector.py:424: The 'train_dataloader' does not have many workers which may be a bottleneck. Consider increasing the value of the `num_workers` argument` to `num_workers=9` in the `DataLoader` to improve performance.\n",
      "/Users/yuki/Library/Mobile Documents/com~apple~CloudDocs/NTU/Y2S2/SC4001/Projects/Assignment1/.venv/lib/python3.11/site-packages/pytorch_lightning/trainer/connectors/data_connector.py:424: The 'val_dataloader' does not have many workers which may be a bottleneck. Consider increasing the value of the `num_workers` argument` to `num_workers=9` in the `DataLoader` to improve performance.\n"
     ]
    },
    {
     "data": {
      "application/vnd.jupyter.widget-view+json": {
       "model_id": "5a776bdcf6254d0f964927716875d234",
       "version_major": 2,
       "version_minor": 0
      },
      "text/plain": [
       "Finding best initial lr:   0%|          | 0/100 [00:00<?, ?it/s]"
      ]
     },
     "metadata": {},
     "output_type": "display_data"
    },
    {
     "name": "stderr",
     "output_type": "stream",
     "text": [
      "`Trainer.fit` stopped: `max_steps=100` reached.\n",
      "Learning rate set to 0.5754399373371567\n",
      "Restoring states from the checkpoint path at /Users/yuki/Library/Mobile Documents/com~apple~CloudDocs/NTU/Y2S2/SC4001/Projects/Assignment1/.lr_find_747fb6cf-3461-4461-8cb0-d991af86e23f.ckpt\n",
      "Restored all states from the checkpoint at /Users/yuki/Library/Mobile Documents/com~apple~CloudDocs/NTU/Y2S2/SC4001/Projects/Assignment1/.lr_find_747fb6cf-3461-4461-8cb0-d991af86e23f.ckpt\n"
     ]
    },
    {
     "data": {
      "text/html": [
       "<pre style=\"white-space:pre;overflow-x:auto;line-height:normal;font-family:Menlo,'DejaVu Sans Mono',consolas,'Courier New',monospace\"><span style=\"color: #008080; text-decoration-color: #008080; font-weight: bold\">2025</span>-<span style=\"color: #008080; text-decoration-color: #008080; font-weight: bold\">03</span>-<span style=\"color: #008080; text-decoration-color: #008080; font-weight: bold\">11</span> <span style=\"color: #00ff00; text-decoration-color: #00ff00; font-weight: bold\">10:12:30</span>,<span style=\"color: #008080; text-decoration-color: #008080; font-weight: bold\">293</span> - <span style=\"font-weight: bold\">{</span>pytorch_tabular.tabular_model:<span style=\"color: #008080; text-decoration-color: #008080; font-weight: bold\">669</span><span style=\"font-weight: bold\">}</span> - INFO - Suggested LR: <span style=\"color: #008080; text-decoration-color: #008080; font-weight: bold\">0.5754399373371567</span>. For plot  \n",
       "and detailed analysis, use `find_learning_rate` method.                                                            \n",
       "</pre>\n"
      ],
      "text/plain": [
       "\u001b[1;36m2025\u001b[0m-\u001b[1;36m03\u001b[0m-\u001b[1;36m11\u001b[0m \u001b[1;92m10:12:30\u001b[0m,\u001b[1;36m293\u001b[0m - \u001b[1m{\u001b[0mpytorch_tabular.tabular_model:\u001b[1;36m669\u001b[0m\u001b[1m}\u001b[0m - INFO - Suggested LR: \u001b[1;36m0.5754399373371567\u001b[0m. For plot  \n",
       "and detailed analysis, use `find_learning_rate` method.                                                            \n"
      ]
     },
     "metadata": {},
     "output_type": "display_data"
    },
    {
     "data": {
      "text/html": [
       "<pre style=\"white-space:pre;overflow-x:auto;line-height:normal;font-family:Menlo,'DejaVu Sans Mono',consolas,'Courier New',monospace\"><span style=\"color: #008080; text-decoration-color: #008080; font-weight: bold\">2025</span>-<span style=\"color: #008080; text-decoration-color: #008080; font-weight: bold\">03</span>-<span style=\"color: #008080; text-decoration-color: #008080; font-weight: bold\">11</span> <span style=\"color: #00ff00; text-decoration-color: #00ff00; font-weight: bold\">10:12:30</span>,<span style=\"color: #008080; text-decoration-color: #008080; font-weight: bold\">295</span> - <span style=\"font-weight: bold\">{</span>pytorch_tabular.tabular_model:<span style=\"color: #008080; text-decoration-color: #008080; font-weight: bold\">678</span><span style=\"font-weight: bold\">}</span> - INFO - Training Started                            \n",
       "</pre>\n"
      ],
      "text/plain": [
       "\u001b[1;36m2025\u001b[0m-\u001b[1;36m03\u001b[0m-\u001b[1;36m11\u001b[0m \u001b[1;92m10:12:30\u001b[0m,\u001b[1;36m295\u001b[0m - \u001b[1m{\u001b[0mpytorch_tabular.tabular_model:\u001b[1;36m678\u001b[0m\u001b[1m}\u001b[0m - INFO - Training Started                            \n"
      ]
     },
     "metadata": {},
     "output_type": "display_data"
    },
    {
     "data": {
      "text/html": [
       "<pre style=\"white-space:pre;overflow-x:auto;line-height:normal;font-family:Menlo,'DejaVu Sans Mono',consolas,'Courier New',monospace\">┏━━━┳━━━━━━━━━━━━━━━━━━┳━━━━━━━━━━━━━━━━━━━━━━━━━━━┳━━━━━━━━┳━━━━━━━┓\n",
       "┃<span style=\"color: #800080; text-decoration-color: #800080; font-weight: bold\">   </span>┃<span style=\"color: #800080; text-decoration-color: #800080; font-weight: bold\"> Name             </span>┃<span style=\"color: #800080; text-decoration-color: #800080; font-weight: bold\"> Type                      </span>┃<span style=\"color: #800080; text-decoration-color: #800080; font-weight: bold\"> Params </span>┃<span style=\"color: #800080; text-decoration-color: #800080; font-weight: bold\"> Mode  </span>┃\n",
       "┡━━━╇━━━━━━━━━━━━━━━━━━╇━━━━━━━━━━━━━━━━━━━━━━━━━━━╇━━━━━━━━╇━━━━━━━┩\n",
       "│<span style=\"color: #7f7f7f; text-decoration-color: #7f7f7f\"> 0 </span>│ _backbone        │ CategoryEmbeddingBackbone │  3.0 K │ train │\n",
       "│<span style=\"color: #7f7f7f; text-decoration-color: #7f7f7f\"> 1 </span>│ _embedding_layer │ Embedding1dLayer          │  1.6 K │ train │\n",
       "│<span style=\"color: #7f7f7f; text-decoration-color: #7f7f7f\"> 2 </span>│ head             │ LinearHead                │     51 │ train │\n",
       "│<span style=\"color: #7f7f7f; text-decoration-color: #7f7f7f\"> 3 </span>│ loss             │ MSELoss                   │      0 │ train │\n",
       "└───┴──────────────────┴───────────────────────────┴────────┴───────┘\n",
       "</pre>\n"
      ],
      "text/plain": [
       "┏━━━┳━━━━━━━━━━━━━━━━━━┳━━━━━━━━━━━━━━━━━━━━━━━━━━━┳━━━━━━━━┳━━━━━━━┓\n",
       "┃\u001b[1;35m \u001b[0m\u001b[1;35m \u001b[0m\u001b[1;35m \u001b[0m┃\u001b[1;35m \u001b[0m\u001b[1;35mName            \u001b[0m\u001b[1;35m \u001b[0m┃\u001b[1;35m \u001b[0m\u001b[1;35mType                     \u001b[0m\u001b[1;35m \u001b[0m┃\u001b[1;35m \u001b[0m\u001b[1;35mParams\u001b[0m\u001b[1;35m \u001b[0m┃\u001b[1;35m \u001b[0m\u001b[1;35mMode \u001b[0m\u001b[1;35m \u001b[0m┃\n",
       "┡━━━╇━━━━━━━━━━━━━━━━━━╇━━━━━━━━━━━━━━━━━━━━━━━━━━━╇━━━━━━━━╇━━━━━━━┩\n",
       "│\u001b[2m \u001b[0m\u001b[2m0\u001b[0m\u001b[2m \u001b[0m│ _backbone        │ CategoryEmbeddingBackbone │  3.0 K │ train │\n",
       "│\u001b[2m \u001b[0m\u001b[2m1\u001b[0m\u001b[2m \u001b[0m│ _embedding_layer │ Embedding1dLayer          │  1.6 K │ train │\n",
       "│\u001b[2m \u001b[0m\u001b[2m2\u001b[0m\u001b[2m \u001b[0m│ head             │ LinearHead                │     51 │ train │\n",
       "│\u001b[2m \u001b[0m\u001b[2m3\u001b[0m\u001b[2m \u001b[0m│ loss             │ MSELoss                   │      0 │ train │\n",
       "└───┴──────────────────┴───────────────────────────┴────────┴───────┘\n"
      ]
     },
     "metadata": {},
     "output_type": "display_data"
    },
    {
     "data": {
      "text/html": [
       "<pre style=\"white-space:pre;overflow-x:auto;line-height:normal;font-family:Menlo,'DejaVu Sans Mono',consolas,'Courier New',monospace\"><span style=\"font-weight: bold\">Trainable params</span>: 4.6 K                                                                                            \n",
       "<span style=\"font-weight: bold\">Non-trainable params</span>: 0                                                                                            \n",
       "<span style=\"font-weight: bold\">Total params</span>: 4.6 K                                                                                                \n",
       "<span style=\"font-weight: bold\">Total estimated model params size (MB)</span>: 0                                                                          \n",
       "<span style=\"font-weight: bold\">Modules in train mode</span>: 16                                                                                          \n",
       "<span style=\"font-weight: bold\">Modules in eval mode</span>: 0                                                                                            \n",
       "</pre>\n"
      ],
      "text/plain": [
       "\u001b[1mTrainable params\u001b[0m: 4.6 K                                                                                            \n",
       "\u001b[1mNon-trainable params\u001b[0m: 0                                                                                            \n",
       "\u001b[1mTotal params\u001b[0m: 4.6 K                                                                                                \n",
       "\u001b[1mTotal estimated model params size (MB)\u001b[0m: 0                                                                          \n",
       "\u001b[1mModules in train mode\u001b[0m: 16                                                                                          \n",
       "\u001b[1mModules in eval mode\u001b[0m: 0                                                                                            \n"
      ]
     },
     "metadata": {},
     "output_type": "display_data"
    },
    {
     "data": {
      "application/vnd.jupyter.widget-view+json": {
       "model_id": "53cdaaff955f4a3695141311b2065454",
       "version_major": 2,
       "version_minor": 0
      },
      "text/plain": [
       "Output()"
      ]
     },
     "metadata": {},
     "output_type": "display_data"
    },
    {
     "data": {
      "text/html": [
       "<pre style=\"white-space:pre;overflow-x:auto;line-height:normal;font-family:Menlo,'DejaVu Sans Mono',consolas,'Courier New',monospace\"></pre>\n"
      ],
      "text/plain": []
     },
     "metadata": {},
     "output_type": "display_data"
    },
    {
     "data": {
      "text/html": [
       "<pre style=\"white-space:pre;overflow-x:auto;line-height:normal;font-family:Menlo,'DejaVu Sans Mono',consolas,'Courier New',monospace\"><span style=\"color: #008080; text-decoration-color: #008080; font-weight: bold\">2025</span>-<span style=\"color: #008080; text-decoration-color: #008080; font-weight: bold\">03</span>-<span style=\"color: #008080; text-decoration-color: #008080; font-weight: bold\">11</span> <span style=\"color: #00ff00; text-decoration-color: #00ff00; font-weight: bold\">10:12:46</span>,<span style=\"color: #008080; text-decoration-color: #008080; font-weight: bold\">012</span> - <span style=\"font-weight: bold\">{</span>pytorch_tabular.tabular_model:<span style=\"color: #008080; text-decoration-color: #008080; font-weight: bold\">689</span><span style=\"font-weight: bold\">}</span> - INFO - Training the model completed                \n",
       "</pre>\n"
      ],
      "text/plain": [
       "\u001b[1;36m2025\u001b[0m-\u001b[1;36m03\u001b[0m-\u001b[1;36m11\u001b[0m \u001b[1;92m10:12:46\u001b[0m,\u001b[1;36m012\u001b[0m - \u001b[1m{\u001b[0mpytorch_tabular.tabular_model:\u001b[1;36m689\u001b[0m\u001b[1m}\u001b[0m - INFO - Training the model completed                \n"
      ]
     },
     "metadata": {},
     "output_type": "display_data"
    },
    {
     "data": {
      "text/html": [
       "<pre style=\"white-space:pre;overflow-x:auto;line-height:normal;font-family:Menlo,'DejaVu Sans Mono',consolas,'Courier New',monospace\"><span style=\"color: #008080; text-decoration-color: #008080; font-weight: bold\">2025</span>-<span style=\"color: #008080; text-decoration-color: #008080; font-weight: bold\">03</span>-<span style=\"color: #008080; text-decoration-color: #008080; font-weight: bold\">11</span> <span style=\"color: #00ff00; text-decoration-color: #00ff00; font-weight: bold\">10:12:46</span>,<span style=\"color: #008080; text-decoration-color: #008080; font-weight: bold\">013</span> - <span style=\"font-weight: bold\">{</span>pytorch_tabular.tabular_model:<span style=\"color: #008080; text-decoration-color: #008080; font-weight: bold\">1529</span><span style=\"font-weight: bold\">}</span> - INFO - Loading the best model                     \n",
       "</pre>\n"
      ],
      "text/plain": [
       "\u001b[1;36m2025\u001b[0m-\u001b[1;36m03\u001b[0m-\u001b[1;36m11\u001b[0m \u001b[1;92m10:12:46\u001b[0m,\u001b[1;36m013\u001b[0m - \u001b[1m{\u001b[0mpytorch_tabular.tabular_model:\u001b[1;36m1529\u001b[0m\u001b[1m}\u001b[0m - INFO - Loading the best model                     \n"
      ]
     },
     "metadata": {},
     "output_type": "display_data"
    },
    {
     "data": {
      "text/plain": [
       "<pytorch_lightning.trainer.trainer.Trainer at 0x33c9a3b50>"
      ]
     },
     "execution_count": 4,
     "metadata": {},
     "output_type": "execute_result"
    }
   ],
   "source": [
    "tabular_model.fit(train=df_train)"
   ]
  },
  {
   "cell_type": "code",
   "execution_count": 5,
   "metadata": {},
   "outputs": [],
   "source": [
    "pred_df = tabular_model.predict(df_test)"
   ]
  },
  {
   "cell_type": "code",
   "execution_count": 6,
   "metadata": {},
   "outputs": [
    {
     "data": {
      "application/vnd.jupyter.widget-view+json": {
       "model_id": "f2ab3f05c2914df8a137f81acc061127",
       "version_major": 2,
       "version_minor": 0
      },
      "text/plain": [
       "Output()"
      ]
     },
     "metadata": {},
     "output_type": "display_data"
    },
    {
     "name": "stderr",
     "output_type": "stream",
     "text": [
      "/Users/yuki/Library/Mobile Documents/com~apple~CloudDocs/NTU/Y2S2/SC4001/Projects/Assignment1/.venv/lib/python3.11/site-packages/pytorch_lightning/trainer/connectors/data_connector.py:424: The 'test_dataloader' does not have many workers which may be a bottleneck. Consider increasing the value of the `num_workers` argument` to `num_workers=9` in the `DataLoader` to improve performance.\n"
     ]
    },
    {
     "data": {
      "text/html": [
       "<pre style=\"white-space:pre;overflow-x:auto;line-height:normal;font-family:Menlo,'DejaVu Sans Mono',consolas,'Courier New',monospace\">┏━━━━━━━━━━━━━━━━━━━━━━━━━━━┳━━━━━━━━━━━━━━━━━━━━━━━━━━━┓\n",
       "┃<span style=\"font-weight: bold\">        Test metric        </span>┃<span style=\"font-weight: bold\">       DataLoader 0        </span>┃\n",
       "┡━━━━━━━━━━━━━━━━━━━━━━━━━━━╇━━━━━━━━━━━━━━━━━━━━━━━━━━━┩\n",
       "│<span style=\"color: #008080; text-decoration-color: #008080\">         test_loss         </span>│<span style=\"color: #800080; text-decoration-color: #800080\">       4484307968.0        </span>│\n",
       "│<span style=\"color: #008080; text-decoration-color: #008080\">  test_mean_squared_error  </span>│<span style=\"color: #800080; text-decoration-color: #800080\">       4484307968.0        </span>│\n",
       "│<span style=\"color: #008080; text-decoration-color: #008080\">       test_r2_score       </span>│<span style=\"color: #800080; text-decoration-color: #800080\">    0.7408820986747742     </span>│\n",
       "└───────────────────────────┴───────────────────────────┘\n",
       "</pre>\n"
      ],
      "text/plain": [
       "┏━━━━━━━━━━━━━━━━━━━━━━━━━━━┳━━━━━━━━━━━━━━━━━━━━━━━━━━━┓\n",
       "┃\u001b[1m \u001b[0m\u001b[1m       Test metric       \u001b[0m\u001b[1m \u001b[0m┃\u001b[1m \u001b[0m\u001b[1m      DataLoader 0       \u001b[0m\u001b[1m \u001b[0m┃\n",
       "┡━━━━━━━━━━━━━━━━━━━━━━━━━━━╇━━━━━━━━━━━━━━━━━━━━━━━━━━━┩\n",
       "│\u001b[36m \u001b[0m\u001b[36m        test_loss        \u001b[0m\u001b[36m \u001b[0m│\u001b[35m \u001b[0m\u001b[35m      4484307968.0       \u001b[0m\u001b[35m \u001b[0m│\n",
       "│\u001b[36m \u001b[0m\u001b[36m test_mean_squared_error \u001b[0m\u001b[36m \u001b[0m│\u001b[35m \u001b[0m\u001b[35m      4484307968.0       \u001b[0m\u001b[35m \u001b[0m│\n",
       "│\u001b[36m \u001b[0m\u001b[36m      test_r2_score      \u001b[0m\u001b[36m \u001b[0m│\u001b[35m \u001b[0m\u001b[35m   0.7408820986747742    \u001b[0m\u001b[35m \u001b[0m│\n",
       "└───────────────────────────┴───────────────────────────┘\n"
      ]
     },
     "metadata": {},
     "output_type": "display_data"
    },
    {
     "data": {
      "text/html": [
       "<pre style=\"white-space:pre;overflow-x:auto;line-height:normal;font-family:Menlo,'DejaVu Sans Mono',consolas,'Courier New',monospace\"></pre>\n"
      ],
      "text/plain": []
     },
     "metadata": {},
     "output_type": "display_data"
    },
    {
     "name": "stdout",
     "output_type": "stream",
     "text": [
      "RMSE: 66965\n",
      "R2 score: 0.7409\n"
     ]
    }
   ],
   "source": [
    "test_results = tabular_model.evaluate(df_test)\n",
    "print(f\"RMSE: {np.sqrt(test_results[0]['test_mean_squared_error']):.0f}\")\n",
    "print(f\"R2 score: {test_results[0]['test_r2_score']:.4f}\")"
   ]
  },
  {
   "cell_type": "markdown",
   "metadata": {
    "id": "NEJhRU18qX22"
   },
   "source": [
    "> Print out the corresponding rows in the dataframe for the top 25 test samples with the largest errors. \n",
    "\n"
   ]
  },
  {
   "cell_type": "code",
   "execution_count": 7,
   "metadata": {
    "id": "5ma5K9vKqZEq"
   },
   "outputs": [
    {
     "data": {
      "text/html": [
       "<div>\n",
       "<style scoped>\n",
       "    .dataframe tbody tr th:only-of-type {\n",
       "        vertical-align: middle;\n",
       "    }\n",
       "\n",
       "    .dataframe tbody tr th {\n",
       "        vertical-align: top;\n",
       "    }\n",
       "\n",
       "    .dataframe thead th {\n",
       "        text-align: right;\n",
       "    }\n",
       "</style>\n",
       "<table border=\"1\" class=\"dataframe\">\n",
       "  <thead>\n",
       "    <tr style=\"text-align: right;\">\n",
       "      <th></th>\n",
       "      <th>month</th>\n",
       "      <th>year</th>\n",
       "      <th>town</th>\n",
       "      <th>full_address</th>\n",
       "      <th>nearest_stn</th>\n",
       "      <th>dist_to_nearest_stn</th>\n",
       "      <th>dist_to_dhoby</th>\n",
       "      <th>degree_centrality</th>\n",
       "      <th>eigenvector_centrality</th>\n",
       "      <th>flat_model_type</th>\n",
       "      <th>remaining_lease_years</th>\n",
       "      <th>floor_area_sqm</th>\n",
       "      <th>storey_range</th>\n",
       "      <th>resale_price</th>\n",
       "      <th>prediction</th>\n",
       "      <th>error</th>\n",
       "    </tr>\n",
       "  </thead>\n",
       "  <tbody>\n",
       "    <tr>\n",
       "      <th>92405</th>\n",
       "      <td>11</td>\n",
       "      <td>2021</td>\n",
       "      <td>BUKIT MERAH</td>\n",
       "      <td>46 SENG POH ROAD</td>\n",
       "      <td>Tiong Bahru</td>\n",
       "      <td>0.581977</td>\n",
       "      <td>2.309477</td>\n",
       "      <td>0.016807</td>\n",
       "      <td>0.047782</td>\n",
       "      <td>3 ROOM, Standard</td>\n",
       "      <td>50.166667</td>\n",
       "      <td>88.0</td>\n",
       "      <td>01 TO 03</td>\n",
       "      <td>780000.0</td>\n",
       "      <td>3.993365e+05</td>\n",
       "      <td>380663.50000</td>\n",
       "    </tr>\n",
       "    <tr>\n",
       "      <th>90957</th>\n",
       "      <td>6</td>\n",
       "      <td>2021</td>\n",
       "      <td>BUKIT BATOK</td>\n",
       "      <td>288A BUKIT BATOK STREET 25</td>\n",
       "      <td>Bukit Batok</td>\n",
       "      <td>1.292540</td>\n",
       "      <td>10.763777</td>\n",
       "      <td>0.016807</td>\n",
       "      <td>0.000217</td>\n",
       "      <td>EXECUTIVE, Apartment</td>\n",
       "      <td>75.583333</td>\n",
       "      <td>144.0</td>\n",
       "      <td>10 TO 12</td>\n",
       "      <td>968000.0</td>\n",
       "      <td>6.147756e+05</td>\n",
       "      <td>353224.43750</td>\n",
       "    </tr>\n",
       "    <tr>\n",
       "      <th>90601</th>\n",
       "      <td>12</td>\n",
       "      <td>2021</td>\n",
       "      <td>BISHAN</td>\n",
       "      <td>251 BISHAN STREET 22</td>\n",
       "      <td>Ang Mo Kio</td>\n",
       "      <td>1.081018</td>\n",
       "      <td>6.939944</td>\n",
       "      <td>0.016807</td>\n",
       "      <td>0.006243</td>\n",
       "      <td>5 ROOM, Improved</td>\n",
       "      <td>69.750000</td>\n",
       "      <td>126.0</td>\n",
       "      <td>04 TO 06</td>\n",
       "      <td>935000.0</td>\n",
       "      <td>6.199250e+05</td>\n",
       "      <td>315075.00000</td>\n",
       "    </tr>\n",
       "    <tr>\n",
       "      <th>90382</th>\n",
       "      <td>7</td>\n",
       "      <td>2021</td>\n",
       "      <td>BISHAN</td>\n",
       "      <td>251 BISHAN STREET 22</td>\n",
       "      <td>Ang Mo Kio</td>\n",
       "      <td>1.081018</td>\n",
       "      <td>6.939944</td>\n",
       "      <td>0.016807</td>\n",
       "      <td>0.006243</td>\n",
       "      <td>5 ROOM, Improved</td>\n",
       "      <td>70.166667</td>\n",
       "      <td>121.0</td>\n",
       "      <td>10 TO 12</td>\n",
       "      <td>945000.0</td>\n",
       "      <td>6.351278e+05</td>\n",
       "      <td>309872.25000</td>\n",
       "    </tr>\n",
       "    <tr>\n",
       "      <th>92533</th>\n",
       "      <td>12</td>\n",
       "      <td>2021</td>\n",
       "      <td>BUKIT MERAH</td>\n",
       "      <td>2C BOON TIONG ROAD</td>\n",
       "      <td>Tiong Bahru</td>\n",
       "      <td>0.656363</td>\n",
       "      <td>1.982722</td>\n",
       "      <td>0.016807</td>\n",
       "      <td>0.047782</td>\n",
       "      <td>5 ROOM, Improved</td>\n",
       "      <td>78.083333</td>\n",
       "      <td>115.0</td>\n",
       "      <td>28 TO 30</td>\n",
       "      <td>1130000.0</td>\n",
       "      <td>8.260764e+05</td>\n",
       "      <td>303923.62500</td>\n",
       "    </tr>\n",
       "    <tr>\n",
       "      <th>90608</th>\n",
       "      <td>12</td>\n",
       "      <td>2021</td>\n",
       "      <td>BISHAN</td>\n",
       "      <td>273B BISHAN STREET 24</td>\n",
       "      <td>Bishan</td>\n",
       "      <td>0.776182</td>\n",
       "      <td>6.297489</td>\n",
       "      <td>0.033613</td>\n",
       "      <td>0.015854</td>\n",
       "      <td>5 ROOM, DBSS</td>\n",
       "      <td>88.833333</td>\n",
       "      <td>120.0</td>\n",
       "      <td>37 TO 39</td>\n",
       "      <td>1360000.0</td>\n",
       "      <td>1.061924e+06</td>\n",
       "      <td>298076.25000</td>\n",
       "    </tr>\n",
       "    <tr>\n",
       "      <th>105702</th>\n",
       "      <td>6</td>\n",
       "      <td>2021</td>\n",
       "      <td>QUEENSTOWN</td>\n",
       "      <td>150 MEI LING STREET</td>\n",
       "      <td>Queenstown</td>\n",
       "      <td>0.245207</td>\n",
       "      <td>4.709043</td>\n",
       "      <td>0.016807</td>\n",
       "      <td>0.008342</td>\n",
       "      <td>EXECUTIVE, Apartment</td>\n",
       "      <td>73.416667</td>\n",
       "      <td>148.0</td>\n",
       "      <td>10 TO 12</td>\n",
       "      <td>1235000.0</td>\n",
       "      <td>9.441447e+05</td>\n",
       "      <td>290855.31250</td>\n",
       "    </tr>\n",
       "    <tr>\n",
       "      <th>92340</th>\n",
       "      <td>10</td>\n",
       "      <td>2021</td>\n",
       "      <td>BUKIT MERAH</td>\n",
       "      <td>56 HAVELOCK ROAD</td>\n",
       "      <td>Tiong Bahru</td>\n",
       "      <td>0.451387</td>\n",
       "      <td>2.128424</td>\n",
       "      <td>0.016807</td>\n",
       "      <td>0.047782</td>\n",
       "      <td>5 ROOM, Improved</td>\n",
       "      <td>90.750000</td>\n",
       "      <td>114.0</td>\n",
       "      <td>34 TO 36</td>\n",
       "      <td>1245000.0</td>\n",
       "      <td>9.546715e+05</td>\n",
       "      <td>290328.50000</td>\n",
       "    </tr>\n",
       "    <tr>\n",
       "      <th>89770</th>\n",
       "      <td>10</td>\n",
       "      <td>2021</td>\n",
       "      <td>BEDOK</td>\n",
       "      <td>103 LENGKONG TIGA</td>\n",
       "      <td>Kembangan</td>\n",
       "      <td>0.622824</td>\n",
       "      <td>7.791966</td>\n",
       "      <td>0.016807</td>\n",
       "      <td>0.002799</td>\n",
       "      <td>5 ROOM, Improved</td>\n",
       "      <td>66.333333</td>\n",
       "      <td>126.0</td>\n",
       "      <td>10 TO 12</td>\n",
       "      <td>868000.0</td>\n",
       "      <td>5.781985e+05</td>\n",
       "      <td>289801.50000</td>\n",
       "    </tr>\n",
       "    <tr>\n",
       "      <th>90600</th>\n",
       "      <td>12</td>\n",
       "      <td>2021</td>\n",
       "      <td>BISHAN</td>\n",
       "      <td>251 BISHAN STREET 22</td>\n",
       "      <td>Ang Mo Kio</td>\n",
       "      <td>1.081018</td>\n",
       "      <td>6.939944</td>\n",
       "      <td>0.016807</td>\n",
       "      <td>0.006243</td>\n",
       "      <td>5 ROOM, Improved</td>\n",
       "      <td>69.666667</td>\n",
       "      <td>121.0</td>\n",
       "      <td>07 TO 09</td>\n",
       "      <td>920000.0</td>\n",
       "      <td>6.303725e+05</td>\n",
       "      <td>289627.50000</td>\n",
       "    </tr>\n",
       "    <tr>\n",
       "      <th>91871</th>\n",
       "      <td>6</td>\n",
       "      <td>2021</td>\n",
       "      <td>BUKIT MERAH</td>\n",
       "      <td>17 TIONG BAHRU ROAD</td>\n",
       "      <td>Tiong Bahru</td>\n",
       "      <td>0.693391</td>\n",
       "      <td>2.058774</td>\n",
       "      <td>0.016807</td>\n",
       "      <td>0.047782</td>\n",
       "      <td>3 ROOM, Standard</td>\n",
       "      <td>50.583333</td>\n",
       "      <td>88.0</td>\n",
       "      <td>01 TO 03</td>\n",
       "      <td>680888.0</td>\n",
       "      <td>3.918192e+05</td>\n",
       "      <td>289068.75000</td>\n",
       "    </tr>\n",
       "    <tr>\n",
       "      <th>92442</th>\n",
       "      <td>11</td>\n",
       "      <td>2021</td>\n",
       "      <td>BUKIT MERAH</td>\n",
       "      <td>127D KIM TIAN ROAD</td>\n",
       "      <td>Tiong Bahru</td>\n",
       "      <td>0.686789</td>\n",
       "      <td>2.664024</td>\n",
       "      <td>0.016807</td>\n",
       "      <td>0.047782</td>\n",
       "      <td>5 ROOM, Improved</td>\n",
       "      <td>90.333333</td>\n",
       "      <td>113.0</td>\n",
       "      <td>16 TO 18</td>\n",
       "      <td>1165000.0</td>\n",
       "      <td>8.768001e+05</td>\n",
       "      <td>288199.87500</td>\n",
       "    </tr>\n",
       "    <tr>\n",
       "      <th>92504</th>\n",
       "      <td>12</td>\n",
       "      <td>2021</td>\n",
       "      <td>BUKIT MERAH</td>\n",
       "      <td>49 KIM PONG ROAD</td>\n",
       "      <td>Tiong Bahru</td>\n",
       "      <td>0.468378</td>\n",
       "      <td>2.365532</td>\n",
       "      <td>0.016807</td>\n",
       "      <td>0.047782</td>\n",
       "      <td>3 ROOM, Standard</td>\n",
       "      <td>50.166667</td>\n",
       "      <td>88.0</td>\n",
       "      <td>01 TO 03</td>\n",
       "      <td>695000.0</td>\n",
       "      <td>4.080297e+05</td>\n",
       "      <td>286970.34375</td>\n",
       "    </tr>\n",
       "    <tr>\n",
       "      <th>88081</th>\n",
       "      <td>8</td>\n",
       "      <td>2021</td>\n",
       "      <td>ANG MO KIO</td>\n",
       "      <td>310A ANG MO KIO AVENUE 1</td>\n",
       "      <td>Ang Mo Kio</td>\n",
       "      <td>0.860056</td>\n",
       "      <td>7.263401</td>\n",
       "      <td>0.016807</td>\n",
       "      <td>0.006243</td>\n",
       "      <td>5 ROOM, Improved</td>\n",
       "      <td>90.166667</td>\n",
       "      <td>121.0</td>\n",
       "      <td>28 TO 30</td>\n",
       "      <td>1100000.0</td>\n",
       "      <td>8.133185e+05</td>\n",
       "      <td>286681.50000</td>\n",
       "    </tr>\n",
       "    <tr>\n",
       "      <th>92299</th>\n",
       "      <td>10</td>\n",
       "      <td>2021</td>\n",
       "      <td>BUKIT MERAH</td>\n",
       "      <td>36 MOH GUAN TERRACE</td>\n",
       "      <td>Tiong Bahru</td>\n",
       "      <td>0.490926</td>\n",
       "      <td>2.278805</td>\n",
       "      <td>0.016807</td>\n",
       "      <td>0.047782</td>\n",
       "      <td>3 ROOM, Standard</td>\n",
       "      <td>50.333333</td>\n",
       "      <td>88.0</td>\n",
       "      <td>01 TO 03</td>\n",
       "      <td>690000.0</td>\n",
       "      <td>4.048715e+05</td>\n",
       "      <td>285128.50000</td>\n",
       "    </tr>\n",
       "    <tr>\n",
       "      <th>93825</th>\n",
       "      <td>8</td>\n",
       "      <td>2021</td>\n",
       "      <td>CENTRAL AREA</td>\n",
       "      <td>4 TANJONG PAGAR PLAZA</td>\n",
       "      <td>Tanjong Pagar</td>\n",
       "      <td>0.451637</td>\n",
       "      <td>2.594828</td>\n",
       "      <td>0.016807</td>\n",
       "      <td>0.103876</td>\n",
       "      <td>5 ROOM, Adjoined flat</td>\n",
       "      <td>54.583333</td>\n",
       "      <td>118.0</td>\n",
       "      <td>16 TO 18</td>\n",
       "      <td>938000.0</td>\n",
       "      <td>6.550211e+05</td>\n",
       "      <td>282978.87500</td>\n",
       "    </tr>\n",
       "    <tr>\n",
       "      <th>100836</th>\n",
       "      <td>6</td>\n",
       "      <td>2021</td>\n",
       "      <td>KALLANG/WHAMPOA</td>\n",
       "      <td>39 JALAN BAHAGIA</td>\n",
       "      <td>Boon Keng</td>\n",
       "      <td>0.998313</td>\n",
       "      <td>3.304953</td>\n",
       "      <td>0.016807</td>\n",
       "      <td>0.053004</td>\n",
       "      <td>3 ROOM, Terrace</td>\n",
       "      <td>50.083333</td>\n",
       "      <td>210.0</td>\n",
       "      <td>01 TO 03</td>\n",
       "      <td>1268000.0</td>\n",
       "      <td>9.853905e+05</td>\n",
       "      <td>282609.50000</td>\n",
       "    </tr>\n",
       "    <tr>\n",
       "      <th>112128</th>\n",
       "      <td>12</td>\n",
       "      <td>2021</td>\n",
       "      <td>TAMPINES</td>\n",
       "      <td>156 TAMPINES STREET 12</td>\n",
       "      <td>Tampines</td>\n",
       "      <td>0.370873</td>\n",
       "      <td>12.479752</td>\n",
       "      <td>0.033613</td>\n",
       "      <td>0.000229</td>\n",
       "      <td>EXECUTIVE, Maisonette</td>\n",
       "      <td>61.750000</td>\n",
       "      <td>148.0</td>\n",
       "      <td>01 TO 03</td>\n",
       "      <td>998000.0</td>\n",
       "      <td>7.192398e+05</td>\n",
       "      <td>278760.25000</td>\n",
       "    </tr>\n",
       "    <tr>\n",
       "      <th>91694</th>\n",
       "      <td>4</td>\n",
       "      <td>2021</td>\n",
       "      <td>BUKIT MERAH</td>\n",
       "      <td>35 LIM LIAK STREET</td>\n",
       "      <td>Tiong Bahru</td>\n",
       "      <td>0.481551</td>\n",
       "      <td>2.262574</td>\n",
       "      <td>0.016807</td>\n",
       "      <td>0.047782</td>\n",
       "      <td>3 ROOM, Standard</td>\n",
       "      <td>50.833333</td>\n",
       "      <td>88.0</td>\n",
       "      <td>01 TO 03</td>\n",
       "      <td>680000.0</td>\n",
       "      <td>4.015675e+05</td>\n",
       "      <td>278432.53125</td>\n",
       "    </tr>\n",
       "    <tr>\n",
       "      <th>90432</th>\n",
       "      <td>8</td>\n",
       "      <td>2021</td>\n",
       "      <td>BISHAN</td>\n",
       "      <td>275A BISHAN STREET 24</td>\n",
       "      <td>Bishan</td>\n",
       "      <td>0.827889</td>\n",
       "      <td>6.370404</td>\n",
       "      <td>0.033613</td>\n",
       "      <td>0.015854</td>\n",
       "      <td>5 ROOM, DBSS</td>\n",
       "      <td>88.916667</td>\n",
       "      <td>120.0</td>\n",
       "      <td>25 TO 27</td>\n",
       "      <td>1280000.0</td>\n",
       "      <td>1.003262e+06</td>\n",
       "      <td>276738.00000</td>\n",
       "    </tr>\n",
       "    <tr>\n",
       "      <th>93895</th>\n",
       "      <td>11</td>\n",
       "      <td>2021</td>\n",
       "      <td>CENTRAL AREA</td>\n",
       "      <td>3 TANJONG PAGAR PLAZA</td>\n",
       "      <td>Tanjong Pagar</td>\n",
       "      <td>0.490378</td>\n",
       "      <td>2.630876</td>\n",
       "      <td>0.016807</td>\n",
       "      <td>0.103876</td>\n",
       "      <td>5 ROOM, Adjoined flat</td>\n",
       "      <td>54.250000</td>\n",
       "      <td>139.0</td>\n",
       "      <td>07 TO 09</td>\n",
       "      <td>958000.0</td>\n",
       "      <td>6.813354e+05</td>\n",
       "      <td>276664.62500</td>\n",
       "    </tr>\n",
       "    <tr>\n",
       "      <th>90521</th>\n",
       "      <td>10</td>\n",
       "      <td>2021</td>\n",
       "      <td>BISHAN</td>\n",
       "      <td>237 BISHAN STREET 22</td>\n",
       "      <td>Bishan</td>\n",
       "      <td>0.947205</td>\n",
       "      <td>6.663943</td>\n",
       "      <td>0.033613</td>\n",
       "      <td>0.015854</td>\n",
       "      <td>5 ROOM, Improved</td>\n",
       "      <td>69.583333</td>\n",
       "      <td>121.0</td>\n",
       "      <td>07 TO 09</td>\n",
       "      <td>988000.0</td>\n",
       "      <td>7.143948e+05</td>\n",
       "      <td>273605.25000</td>\n",
       "    </tr>\n",
       "    <tr>\n",
       "      <th>101237</th>\n",
       "      <td>11</td>\n",
       "      <td>2021</td>\n",
       "      <td>KALLANG/WHAMPOA</td>\n",
       "      <td>8 BOON KENG ROAD</td>\n",
       "      <td>Bendemeer</td>\n",
       "      <td>0.352251</td>\n",
       "      <td>2.587444</td>\n",
       "      <td>0.016807</td>\n",
       "      <td>0.004414</td>\n",
       "      <td>5 ROOM, DBSS</td>\n",
       "      <td>88.250000</td>\n",
       "      <td>119.0</td>\n",
       "      <td>40 TO 42</td>\n",
       "      <td>1268000.0</td>\n",
       "      <td>9.956690e+05</td>\n",
       "      <td>272331.00000</td>\n",
       "    </tr>\n",
       "    <tr>\n",
       "      <th>93670</th>\n",
       "      <td>12</td>\n",
       "      <td>2021</td>\n",
       "      <td>BUKIT TIMAH</td>\n",
       "      <td>6 TOH YI DRIVE</td>\n",
       "      <td>Beauty World</td>\n",
       "      <td>0.428356</td>\n",
       "      <td>8.948410</td>\n",
       "      <td>0.016807</td>\n",
       "      <td>0.001358</td>\n",
       "      <td>EXECUTIVE, Maisonette</td>\n",
       "      <td>66.666667</td>\n",
       "      <td>154.0</td>\n",
       "      <td>04 TO 06</td>\n",
       "      <td>1238000.0</td>\n",
       "      <td>9.660116e+05</td>\n",
       "      <td>271988.37500</td>\n",
       "    </tr>\n",
       "    <tr>\n",
       "      <th>92379</th>\n",
       "      <td>11</td>\n",
       "      <td>2021</td>\n",
       "      <td>BUKIT MERAH</td>\n",
       "      <td>48 MOH GUAN TERRACE</td>\n",
       "      <td>Tiong Bahru</td>\n",
       "      <td>0.538563</td>\n",
       "      <td>2.345844</td>\n",
       "      <td>0.016807</td>\n",
       "      <td>0.047782</td>\n",
       "      <td>3 ROOM, Standard</td>\n",
       "      <td>50.250000</td>\n",
       "      <td>77.0</td>\n",
       "      <td>04 TO 06</td>\n",
       "      <td>640000.0</td>\n",
       "      <td>3.702984e+05</td>\n",
       "      <td>269701.59375</td>\n",
       "    </tr>\n",
       "  </tbody>\n",
       "</table>\n",
       "</div>"
      ],
      "text/plain": [
       "        month  year             town                full_address  \\\n",
       "92405      11  2021      BUKIT MERAH            46 SENG POH ROAD   \n",
       "90957       6  2021      BUKIT BATOK  288A BUKIT BATOK STREET 25   \n",
       "90601      12  2021           BISHAN        251 BISHAN STREET 22   \n",
       "90382       7  2021           BISHAN        251 BISHAN STREET 22   \n",
       "92533      12  2021      BUKIT MERAH          2C BOON TIONG ROAD   \n",
       "90608      12  2021           BISHAN       273B BISHAN STREET 24   \n",
       "105702      6  2021       QUEENSTOWN         150 MEI LING STREET   \n",
       "92340      10  2021      BUKIT MERAH            56 HAVELOCK ROAD   \n",
       "89770      10  2021            BEDOK           103 LENGKONG TIGA   \n",
       "90600      12  2021           BISHAN        251 BISHAN STREET 22   \n",
       "91871       6  2021      BUKIT MERAH         17 TIONG BAHRU ROAD   \n",
       "92442      11  2021      BUKIT MERAH          127D KIM TIAN ROAD   \n",
       "92504      12  2021      BUKIT MERAH            49 KIM PONG ROAD   \n",
       "88081       8  2021       ANG MO KIO    310A ANG MO KIO AVENUE 1   \n",
       "92299      10  2021      BUKIT MERAH         36 MOH GUAN TERRACE   \n",
       "93825       8  2021     CENTRAL AREA       4 TANJONG PAGAR PLAZA   \n",
       "100836      6  2021  KALLANG/WHAMPOA            39 JALAN BAHAGIA   \n",
       "112128     12  2021         TAMPINES      156 TAMPINES STREET 12   \n",
       "91694       4  2021      BUKIT MERAH          35 LIM LIAK STREET   \n",
       "90432       8  2021           BISHAN       275A BISHAN STREET 24   \n",
       "93895      11  2021     CENTRAL AREA       3 TANJONG PAGAR PLAZA   \n",
       "90521      10  2021           BISHAN        237 BISHAN STREET 22   \n",
       "101237     11  2021  KALLANG/WHAMPOA            8 BOON KENG ROAD   \n",
       "93670      12  2021      BUKIT TIMAH              6 TOH YI DRIVE   \n",
       "92379      11  2021      BUKIT MERAH         48 MOH GUAN TERRACE   \n",
       "\n",
       "          nearest_stn  dist_to_nearest_stn  dist_to_dhoby  degree_centrality  \\\n",
       "92405     Tiong Bahru             0.581977       2.309477           0.016807   \n",
       "90957     Bukit Batok             1.292540      10.763777           0.016807   \n",
       "90601      Ang Mo Kio             1.081018       6.939944           0.016807   \n",
       "90382      Ang Mo Kio             1.081018       6.939944           0.016807   \n",
       "92533     Tiong Bahru             0.656363       1.982722           0.016807   \n",
       "90608          Bishan             0.776182       6.297489           0.033613   \n",
       "105702     Queenstown             0.245207       4.709043           0.016807   \n",
       "92340     Tiong Bahru             0.451387       2.128424           0.016807   \n",
       "89770       Kembangan             0.622824       7.791966           0.016807   \n",
       "90600      Ang Mo Kio             1.081018       6.939944           0.016807   \n",
       "91871     Tiong Bahru             0.693391       2.058774           0.016807   \n",
       "92442     Tiong Bahru             0.686789       2.664024           0.016807   \n",
       "92504     Tiong Bahru             0.468378       2.365532           0.016807   \n",
       "88081      Ang Mo Kio             0.860056       7.263401           0.016807   \n",
       "92299     Tiong Bahru             0.490926       2.278805           0.016807   \n",
       "93825   Tanjong Pagar             0.451637       2.594828           0.016807   \n",
       "100836      Boon Keng             0.998313       3.304953           0.016807   \n",
       "112128       Tampines             0.370873      12.479752           0.033613   \n",
       "91694     Tiong Bahru             0.481551       2.262574           0.016807   \n",
       "90432          Bishan             0.827889       6.370404           0.033613   \n",
       "93895   Tanjong Pagar             0.490378       2.630876           0.016807   \n",
       "90521          Bishan             0.947205       6.663943           0.033613   \n",
       "101237      Bendemeer             0.352251       2.587444           0.016807   \n",
       "93670    Beauty World             0.428356       8.948410           0.016807   \n",
       "92379     Tiong Bahru             0.538563       2.345844           0.016807   \n",
       "\n",
       "        eigenvector_centrality        flat_model_type  remaining_lease_years  \\\n",
       "92405                 0.047782       3 ROOM, Standard              50.166667   \n",
       "90957                 0.000217   EXECUTIVE, Apartment              75.583333   \n",
       "90601                 0.006243       5 ROOM, Improved              69.750000   \n",
       "90382                 0.006243       5 ROOM, Improved              70.166667   \n",
       "92533                 0.047782       5 ROOM, Improved              78.083333   \n",
       "90608                 0.015854           5 ROOM, DBSS              88.833333   \n",
       "105702                0.008342   EXECUTIVE, Apartment              73.416667   \n",
       "92340                 0.047782       5 ROOM, Improved              90.750000   \n",
       "89770                 0.002799       5 ROOM, Improved              66.333333   \n",
       "90600                 0.006243       5 ROOM, Improved              69.666667   \n",
       "91871                 0.047782       3 ROOM, Standard              50.583333   \n",
       "92442                 0.047782       5 ROOM, Improved              90.333333   \n",
       "92504                 0.047782       3 ROOM, Standard              50.166667   \n",
       "88081                 0.006243       5 ROOM, Improved              90.166667   \n",
       "92299                 0.047782       3 ROOM, Standard              50.333333   \n",
       "93825                 0.103876  5 ROOM, Adjoined flat              54.583333   \n",
       "100836                0.053004        3 ROOM, Terrace              50.083333   \n",
       "112128                0.000229  EXECUTIVE, Maisonette              61.750000   \n",
       "91694                 0.047782       3 ROOM, Standard              50.833333   \n",
       "90432                 0.015854           5 ROOM, DBSS              88.916667   \n",
       "93895                 0.103876  5 ROOM, Adjoined flat              54.250000   \n",
       "90521                 0.015854       5 ROOM, Improved              69.583333   \n",
       "101237                0.004414           5 ROOM, DBSS              88.250000   \n",
       "93670                 0.001358  EXECUTIVE, Maisonette              66.666667   \n",
       "92379                 0.047782       3 ROOM, Standard              50.250000   \n",
       "\n",
       "        floor_area_sqm storey_range  resale_price    prediction         error  \n",
       "92405             88.0     01 TO 03      780000.0  3.993365e+05  380663.50000  \n",
       "90957            144.0     10 TO 12      968000.0  6.147756e+05  353224.43750  \n",
       "90601            126.0     04 TO 06      935000.0  6.199250e+05  315075.00000  \n",
       "90382            121.0     10 TO 12      945000.0  6.351278e+05  309872.25000  \n",
       "92533            115.0     28 TO 30     1130000.0  8.260764e+05  303923.62500  \n",
       "90608            120.0     37 TO 39     1360000.0  1.061924e+06  298076.25000  \n",
       "105702           148.0     10 TO 12     1235000.0  9.441447e+05  290855.31250  \n",
       "92340            114.0     34 TO 36     1245000.0  9.546715e+05  290328.50000  \n",
       "89770            126.0     10 TO 12      868000.0  5.781985e+05  289801.50000  \n",
       "90600            121.0     07 TO 09      920000.0  6.303725e+05  289627.50000  \n",
       "91871             88.0     01 TO 03      680888.0  3.918192e+05  289068.75000  \n",
       "92442            113.0     16 TO 18     1165000.0  8.768001e+05  288199.87500  \n",
       "92504             88.0     01 TO 03      695000.0  4.080297e+05  286970.34375  \n",
       "88081            121.0     28 TO 30     1100000.0  8.133185e+05  286681.50000  \n",
       "92299             88.0     01 TO 03      690000.0  4.048715e+05  285128.50000  \n",
       "93825            118.0     16 TO 18      938000.0  6.550211e+05  282978.87500  \n",
       "100836           210.0     01 TO 03     1268000.0  9.853905e+05  282609.50000  \n",
       "112128           148.0     01 TO 03      998000.0  7.192398e+05  278760.25000  \n",
       "91694             88.0     01 TO 03      680000.0  4.015675e+05  278432.53125  \n",
       "90432            120.0     25 TO 27     1280000.0  1.003262e+06  276738.00000  \n",
       "93895            139.0     07 TO 09      958000.0  6.813354e+05  276664.62500  \n",
       "90521            121.0     07 TO 09      988000.0  7.143948e+05  273605.25000  \n",
       "101237           119.0     40 TO 42     1268000.0  9.956690e+05  272331.00000  \n",
       "93670            154.0     04 TO 06     1238000.0  9.660116e+05  271988.37500  \n",
       "92379             77.0     04 TO 06      640000.0  3.702984e+05  269701.59375  "
      ]
     },
     "metadata": {},
     "output_type": "display_data"
    }
   ],
   "source": [
    "results_df = df_test.copy()\n",
    "results_df['prediction'] = pred_df['resale_price_prediction']\n",
    "results_df['error'] = abs(results_df['resale_price'] - results_df['prediction'])\n",
    "\n",
    "top_errors = results_df.sort_values(by='error', ascending=False).head(25)\n",
    "display(top_errors)"
   ]
  },
  {
   "cell_type": "code",
   "execution_count": 8,
   "metadata": {},
   "outputs": [],
   "source": [
    "tabular_model.save_model(\"models/b1_model\")"
   ]
  },
  {
   "cell_type": "markdown",
   "metadata": {},
   "source": [
    "Part B, Q2 (10 marks)\n",
    "---\n",
    "In Question B1, we used the Category Embedding model. This creates a feedforward neural network in which the categorical features get learnable embeddings. In this question, we will make use of a library called Pytorch-WideDeep. This library makes it easy to work with multimodal deep-learning problems combining images, text, and tables. We will just be utilizing the deeptabular component of this library through the TabMlp network."
   ]
  },
  {
   "cell_type": "code",
   "execution_count": 14,
   "metadata": {},
   "outputs": [
    {
     "name": "stdout",
     "output_type": "stream",
     "text": [
      "Requirement already satisfied: pytorch-widedeep==1.6.5 in ./.venv/lib/python3.11/site-packages (1.6.5)\n",
      "Requirement already satisfied: pandas>=1.3.5 in ./.venv/lib/python3.11/site-packages (from pytorch-widedeep==1.6.5) (2.2.3)\n",
      "Requirement already satisfied: numpy<2.0.0,>=1.21.6 in ./.venv/lib/python3.11/site-packages (from pytorch-widedeep==1.6.5) (1.26.4)\n",
      "Requirement already satisfied: scipy<=1.12.0,>=1.7.3 in ./.venv/lib/python3.11/site-packages (from pytorch-widedeep==1.6.5) (1.12.0)\n",
      "Requirement already satisfied: scikit-learn>=1.0.2 in ./.venv/lib/python3.11/site-packages (from pytorch-widedeep==1.6.5) (1.6.1)\n",
      "Requirement already satisfied: gensim in ./.venv/lib/python3.11/site-packages (from pytorch-widedeep==1.6.5) (4.3.3)\n",
      "Requirement already satisfied: spacy in ./.venv/lib/python3.11/site-packages (from pytorch-widedeep==1.6.5) (3.8.4)\n",
      "Requirement already satisfied: opencv-contrib-python>=4.9.0.80 in ./.venv/lib/python3.11/site-packages (from pytorch-widedeep==1.6.5) (4.11.0.86)\n",
      "Requirement already satisfied: tqdm in ./.venv/lib/python3.11/site-packages (from pytorch-widedeep==1.6.5) (4.67.1)\n",
      "Requirement already satisfied: torch>=2.0.0 in ./.venv/lib/python3.11/site-packages (from pytorch-widedeep==1.6.5) (2.5.1)\n",
      "Requirement already satisfied: torchvision>=0.15.0 in ./.venv/lib/python3.11/site-packages (from pytorch-widedeep==1.6.5) (0.21.0)\n",
      "Requirement already satisfied: einops in ./.venv/lib/python3.11/site-packages (from pytorch-widedeep==1.6.5) (0.7.0)\n",
      "Requirement already satisfied: wrapt in ./.venv/lib/python3.11/site-packages (from pytorch-widedeep==1.6.5) (1.17.2)\n",
      "Requirement already satisfied: torchmetrics>=1.3.1 in ./.venv/lib/python3.11/site-packages (from pytorch-widedeep==1.6.5) (1.5.2)\n",
      "Requirement already satisfied: pyarrow>=15.0.0 in ./.venv/lib/python3.11/site-packages (from pytorch-widedeep==1.6.5) (19.0.1)\n",
      "Requirement already satisfied: fastparquet>=2024.2.0 in ./.venv/lib/python3.11/site-packages (from pytorch-widedeep==1.6.5) (2024.11.0)\n",
      "Requirement already satisfied: transformers>=4.37.0 in ./.venv/lib/python3.11/site-packages (from pytorch-widedeep==1.6.5) (4.49.0)\n",
      "Requirement already satisfied: sentence-transformers>=2.3.0 in ./.venv/lib/python3.11/site-packages (from pytorch-widedeep==1.6.5) (3.4.1)\n",
      "Requirement already satisfied: sentencepiece>=0.2.0 in ./.venv/lib/python3.11/site-packages (from pytorch-widedeep==1.6.5) (0.2.0)\n",
      "Requirement already satisfied: cramjam>=2.3 in ./.venv/lib/python3.11/site-packages (from fastparquet>=2024.2.0->pytorch-widedeep==1.6.5) (2.9.1)\n",
      "Requirement already satisfied: fsspec in ./.venv/lib/python3.11/site-packages (from fastparquet>=2024.2.0->pytorch-widedeep==1.6.5) (2025.2.0)\n",
      "Requirement already satisfied: packaging in ./.venv/lib/python3.11/site-packages (from fastparquet>=2024.2.0->pytorch-widedeep==1.6.5) (24.2)\n",
      "Requirement already satisfied: python-dateutil>=2.8.2 in ./.venv/lib/python3.11/site-packages (from pandas>=1.3.5->pytorch-widedeep==1.6.5) (2.9.0.post0)\n",
      "Requirement already satisfied: pytz>=2020.1 in ./.venv/lib/python3.11/site-packages (from pandas>=1.3.5->pytorch-widedeep==1.6.5) (2025.1)\n",
      "Requirement already satisfied: tzdata>=2022.7 in ./.venv/lib/python3.11/site-packages (from pandas>=1.3.5->pytorch-widedeep==1.6.5) (2025.1)\n",
      "Requirement already satisfied: joblib>=1.2.0 in ./.venv/lib/python3.11/site-packages (from scikit-learn>=1.0.2->pytorch-widedeep==1.6.5) (1.4.2)\n",
      "Requirement already satisfied: threadpoolctl>=3.1.0 in ./.venv/lib/python3.11/site-packages (from scikit-learn>=1.0.2->pytorch-widedeep==1.6.5) (3.5.0)\n",
      "Requirement already satisfied: huggingface-hub>=0.20.0 in ./.venv/lib/python3.11/site-packages (from sentence-transformers>=2.3.0->pytorch-widedeep==1.6.5) (0.29.2)\n",
      "Requirement already satisfied: Pillow in ./.venv/lib/python3.11/site-packages (from sentence-transformers>=2.3.0->pytorch-widedeep==1.6.5) (11.1.0)\n",
      "Requirement already satisfied: filelock in ./.venv/lib/python3.11/site-packages (from torch>=2.0.0->pytorch-widedeep==1.6.5) (3.17.0)\n",
      "Requirement already satisfied: typing-extensions>=4.8.0 in ./.venv/lib/python3.11/site-packages (from torch>=2.0.0->pytorch-widedeep==1.6.5) (4.12.2)\n",
      "Requirement already satisfied: networkx in ./.venv/lib/python3.11/site-packages (from torch>=2.0.0->pytorch-widedeep==1.6.5) (3.4.2)\n",
      "Requirement already satisfied: jinja2 in ./.venv/lib/python3.11/site-packages (from torch>=2.0.0->pytorch-widedeep==1.6.5) (3.1.5)\n",
      "Requirement already satisfied: sympy==1.13.1 in ./.venv/lib/python3.11/site-packages (from torch>=2.0.0->pytorch-widedeep==1.6.5) (1.13.1)\n",
      "Requirement already satisfied: mpmath<1.4,>=1.1.0 in ./.venv/lib/python3.11/site-packages (from sympy==1.13.1->torch>=2.0.0->pytorch-widedeep==1.6.5) (1.3.0)\n",
      "Requirement already satisfied: lightning-utilities>=0.8.0 in ./.venv/lib/python3.11/site-packages (from torchmetrics>=1.3.1->pytorch-widedeep==1.6.5) (0.14.0)\n",
      "Collecting torch>=2.0.0 (from pytorch-widedeep==1.6.5)\n",
      "  Using cached torch-2.6.0-cp311-none-macosx_11_0_arm64.whl.metadata (28 kB)\n",
      "Requirement already satisfied: pyyaml>=5.1 in ./.venv/lib/python3.11/site-packages (from transformers>=4.37.0->pytorch-widedeep==1.6.5) (6.0.2)\n",
      "Requirement already satisfied: regex!=2019.12.17 in ./.venv/lib/python3.11/site-packages (from transformers>=4.37.0->pytorch-widedeep==1.6.5) (2024.11.6)\n",
      "Requirement already satisfied: requests in ./.venv/lib/python3.11/site-packages (from transformers>=4.37.0->pytorch-widedeep==1.6.5) (2.32.3)\n",
      "Requirement already satisfied: tokenizers<0.22,>=0.21 in ./.venv/lib/python3.11/site-packages (from transformers>=4.37.0->pytorch-widedeep==1.6.5) (0.21.0)\n",
      "Requirement already satisfied: safetensors>=0.4.1 in ./.venv/lib/python3.11/site-packages (from transformers>=4.37.0->pytorch-widedeep==1.6.5) (0.5.3)\n",
      "Requirement already satisfied: smart-open>=1.8.1 in ./.venv/lib/python3.11/site-packages (from gensim->pytorch-widedeep==1.6.5) (7.1.0)\n",
      "Requirement already satisfied: spacy-legacy<3.1.0,>=3.0.11 in ./.venv/lib/python3.11/site-packages (from spacy->pytorch-widedeep==1.6.5) (3.0.12)\n",
      "Requirement already satisfied: spacy-loggers<2.0.0,>=1.0.0 in ./.venv/lib/python3.11/site-packages (from spacy->pytorch-widedeep==1.6.5) (1.0.5)\n",
      "Requirement already satisfied: murmurhash<1.1.0,>=0.28.0 in ./.venv/lib/python3.11/site-packages (from spacy->pytorch-widedeep==1.6.5) (1.0.12)\n",
      "Requirement already satisfied: cymem<2.1.0,>=2.0.2 in ./.venv/lib/python3.11/site-packages (from spacy->pytorch-widedeep==1.6.5) (2.0.11)\n",
      "Requirement already satisfied: preshed<3.1.0,>=3.0.2 in ./.venv/lib/python3.11/site-packages (from spacy->pytorch-widedeep==1.6.5) (3.0.9)\n",
      "Requirement already satisfied: thinc<8.4.0,>=8.3.4 in ./.venv/lib/python3.11/site-packages (from spacy->pytorch-widedeep==1.6.5) (8.3.4)\n",
      "Requirement already satisfied: wasabi<1.2.0,>=0.9.1 in ./.venv/lib/python3.11/site-packages (from spacy->pytorch-widedeep==1.6.5) (1.1.3)\n",
      "Requirement already satisfied: srsly<3.0.0,>=2.4.3 in ./.venv/lib/python3.11/site-packages (from spacy->pytorch-widedeep==1.6.5) (2.5.1)\n",
      "Requirement already satisfied: catalogue<2.1.0,>=2.0.6 in ./.venv/lib/python3.11/site-packages (from spacy->pytorch-widedeep==1.6.5) (2.0.10)\n",
      "Requirement already satisfied: weasel<0.5.0,>=0.1.0 in ./.venv/lib/python3.11/site-packages (from spacy->pytorch-widedeep==1.6.5) (0.4.1)\n",
      "Requirement already satisfied: typer<1.0.0,>=0.3.0 in ./.venv/lib/python3.11/site-packages (from spacy->pytorch-widedeep==1.6.5) (0.15.2)\n",
      "Requirement already satisfied: pydantic!=1.8,!=1.8.1,<3.0.0,>=1.7.4 in ./.venv/lib/python3.11/site-packages (from spacy->pytorch-widedeep==1.6.5) (2.10.6)\n",
      "Requirement already satisfied: setuptools in ./.venv/lib/python3.11/site-packages (from spacy->pytorch-widedeep==1.6.5) (75.6.0)\n",
      "Requirement already satisfied: langcodes<4.0.0,>=3.2.0 in ./.venv/lib/python3.11/site-packages (from spacy->pytorch-widedeep==1.6.5) (3.5.0)\n",
      "Requirement already satisfied: language-data>=1.2 in ./.venv/lib/python3.11/site-packages (from langcodes<4.0.0,>=3.2.0->spacy->pytorch-widedeep==1.6.5) (1.3.0)\n",
      "Requirement already satisfied: annotated-types>=0.6.0 in ./.venv/lib/python3.11/site-packages (from pydantic!=1.8,!=1.8.1,<3.0.0,>=1.7.4->spacy->pytorch-widedeep==1.6.5) (0.7.0)\n",
      "Requirement already satisfied: pydantic-core==2.27.2 in ./.venv/lib/python3.11/site-packages (from pydantic!=1.8,!=1.8.1,<3.0.0,>=1.7.4->spacy->pytorch-widedeep==1.6.5) (2.27.2)\n",
      "Requirement already satisfied: six>=1.5 in ./.venv/lib/python3.11/site-packages (from python-dateutil>=2.8.2->pandas>=1.3.5->pytorch-widedeep==1.6.5) (1.17.0)\n",
      "Requirement already satisfied: charset-normalizer<4,>=2 in ./.venv/lib/python3.11/site-packages (from requests->transformers>=4.37.0->pytorch-widedeep==1.6.5) (3.4.1)\n",
      "Requirement already satisfied: idna<4,>=2.5 in ./.venv/lib/python3.11/site-packages (from requests->transformers>=4.37.0->pytorch-widedeep==1.6.5) (3.10)\n",
      "Requirement already satisfied: urllib3<3,>=1.21.1 in ./.venv/lib/python3.11/site-packages (from requests->transformers>=4.37.0->pytorch-widedeep==1.6.5) (2.3.0)\n",
      "Requirement already satisfied: certifi>=2017.4.17 in ./.venv/lib/python3.11/site-packages (from requests->transformers>=4.37.0->pytorch-widedeep==1.6.5) (2025.1.31)\n",
      "Requirement already satisfied: blis<1.3.0,>=1.2.0 in ./.venv/lib/python3.11/site-packages (from thinc<8.4.0,>=8.3.4->spacy->pytorch-widedeep==1.6.5) (1.2.0)\n",
      "Requirement already satisfied: confection<1.0.0,>=0.0.1 in ./.venv/lib/python3.11/site-packages (from thinc<8.4.0,>=8.3.4->spacy->pytorch-widedeep==1.6.5) (0.1.5)\n",
      "Requirement already satisfied: click>=8.0.0 in ./.venv/lib/python3.11/site-packages (from typer<1.0.0,>=0.3.0->spacy->pytorch-widedeep==1.6.5) (8.1.8)\n",
      "Requirement already satisfied: shellingham>=1.3.0 in ./.venv/lib/python3.11/site-packages (from typer<1.0.0,>=0.3.0->spacy->pytorch-widedeep==1.6.5) (1.5.4)\n",
      "Requirement already satisfied: rich>=10.11.0 in ./.venv/lib/python3.11/site-packages (from typer<1.0.0,>=0.3.0->spacy->pytorch-widedeep==1.6.5) (13.9.4)\n",
      "Requirement already satisfied: cloudpathlib<1.0.0,>=0.7.0 in ./.venv/lib/python3.11/site-packages (from weasel<0.5.0,>=0.1.0->spacy->pytorch-widedeep==1.6.5) (0.21.0)\n",
      "Requirement already satisfied: MarkupSafe>=2.0 in ./.venv/lib/python3.11/site-packages (from jinja2->torch>=2.0.0->pytorch-widedeep==1.6.5) (3.0.2)\n",
      "Requirement already satisfied: marisa-trie>=1.1.0 in ./.venv/lib/python3.11/site-packages (from language-data>=1.2->langcodes<4.0.0,>=3.2.0->spacy->pytorch-widedeep==1.6.5) (1.2.1)\n",
      "Requirement already satisfied: markdown-it-py>=2.2.0 in ./.venv/lib/python3.11/site-packages (from rich>=10.11.0->typer<1.0.0,>=0.3.0->spacy->pytorch-widedeep==1.6.5) (3.0.0)\n",
      "Requirement already satisfied: pygments<3.0.0,>=2.13.0 in ./.venv/lib/python3.11/site-packages (from rich>=10.11.0->typer<1.0.0,>=0.3.0->spacy->pytorch-widedeep==1.6.5) (2.19.1)\n",
      "Requirement already satisfied: mdurl~=0.1 in ./.venv/lib/python3.11/site-packages (from markdown-it-py>=2.2.0->rich>=10.11.0->typer<1.0.0,>=0.3.0->spacy->pytorch-widedeep==1.6.5) (0.1.2)\n",
      "Using cached torch-2.6.0-cp311-none-macosx_11_0_arm64.whl (66.5 MB)\n",
      "Installing collected packages: torch\n",
      "  Attempting uninstall: torch\n",
      "    Found existing installation: torch 2.5.1\n",
      "    Uninstalling torch-2.5.1:\n",
      "      Successfully uninstalled torch-2.5.1\n",
      "Successfully installed torch-2.6.0\n",
      "Note: you may need to restart the kernel to use updated packages.\n"
     ]
    }
   ],
   "source": [
    "pip install \"pytorch-widedeep==1.6.5\""
   ]
  },
  {
   "cell_type": "code",
   "execution_count": 29,
   "metadata": {},
   "outputs": [],
   "source": [
    "from pytorch_widedeep.preprocessing import TabPreprocessor\n",
    "from pytorch_widedeep.models import TabMlp, WideDeep\n",
    "from pytorch_widedeep import Trainer\n",
    "from pytorch_widedeep.metrics import R2Score\n",
    "\n",
    "from sklearn.metrics import r2_score, mean_squared_error"
   ]
  },
  {
   "cell_type": "markdown",
   "metadata": {},
   "source": [
    ">Divide the dataset (‘hdb_price_prediction.csv’) into train and test sets by using entries from the year 2020 and before as training data, and entries from 2021 and after as the test data（validation set is not required here)."
   ]
  },
  {
   "cell_type": "code",
   "execution_count": 22,
   "metadata": {},
   "outputs": [],
   "source": [
    "df = pd.read_csv('hdb_price_prediction.csv')\n",
    "df_train = df[df['year'] <= 2020]\n",
    "df_test = df[df['year'] >= 2021]\n",
    "\n",
    "X_train = df_train.drop(\"resale_price\", axis=1)\n",
    "y_train = df_train[\"resale_price\"]\n",
    "X_test = df_test.drop(\"resale_price\", axis=1)\n",
    "y_test = df_test[\"resale_price\"]"
   ]
  },
  {
   "cell_type": "markdown",
   "metadata": {},
   "source": [
    ">Refer to the documentation of Pytorch-WideDeep and perform the following tasks:\n",
    "https://pytorch-widedeep.readthedocs.io/en/latest/index.html\n",
    "* Use [**TabPreprocessor**](https://pytorch-widedeep.readthedocs.io/en/latest/examples/01_preprocessors_and_utils.html#2-tabpreprocessor) to create the deeptabular component using the continuous\n",
    "features and the categorical features. Use this component to transform the training dataset.\n",
    "* Create the [**TabMlp**](https://pytorch-widedeep.readthedocs.io/en/latest/pytorch-widedeep/model_components.html#pytorch_widedeep.models.tabular.mlp.tab_mlp.TabMlp) model with 2 hidden layers in the MLP, with 200 and 100 neurons respectively.\n",
    "* Create a [**Trainer**](https://pytorch-widedeep.readthedocs.io/en/latest/pytorch-widedeep/trainer.html#pytorch_widedeep.training.Trainer) for the training of the created TabMlp model with the root mean squared error (RMSE) cost function. Train the model for 60 epochs using this trainer, keeping a batch size of 64. (Note: set the *num_workers* parameter to 0.)"
   ]
  },
  {
   "cell_type": "code",
   "execution_count": 19,
   "metadata": {},
   "outputs": [
    {
     "name": "stderr",
     "output_type": "stream",
     "text": [
      "/Users/yuki/Library/Mobile Documents/com~apple~CloudDocs/NTU/Y2S2/SC4001/Projects/Assignment1/.venv/lib/python3.11/site-packages/pytorch_widedeep/preprocessing/tab_preprocessor.py:364: UserWarning: Continuous columns will not be normalised\n",
      "  warnings.warn(\"Continuous columns will not be normalised\")\n"
     ]
    }
   ],
   "source": [
    "continuous_cols=[\"dist_to_nearest_stn\", \"dist_to_dhoby\", \"degree_centrality\",\n",
    "                     \"eigenvector_centrality\", \"remaining_lease_years\", \"floor_area_sqm\"]\n",
    "categorical_cols=[\"month\", \"town\", \"flat_model_type\", \"storey_range\"]\n",
    "\n",
    "tab_preprocessor = TabPreprocessor(\n",
    "    cat_embed_cols=categorical_cols,\n",
    "    continuous_cols=continuous_cols\n",
    ")\n",
    "\n",
    "X_tab = tab_preprocessor.fit_transform(X_train)\n",
    "X_tab_test = tab_preprocessor.transform(X_test)"
   ]
  },
  {
   "cell_type": "code",
   "execution_count": 20,
   "metadata": {},
   "outputs": [],
   "source": [
    "tab_mlp = TabMlp(\n",
    "    column_idx=tab_preprocessor.column_idx,\n",
    "    cat_embed_input=tab_preprocessor.cat_embed_input,\n",
    "    continuous_cols=continuous_cols,\n",
    "    mlp_hidden_dims=[200, 100],\n",
    ")\n",
    "\n",
    "model = WideDeep(deeptabular=tab_mlp)"
   ]
  },
  {
   "cell_type": "code",
   "execution_count": 25,
   "metadata": {},
   "outputs": [
    {
     "name": "stderr",
     "output_type": "stream",
     "text": [
      "epoch 1: 100%|██████████| 1366/1366 [00:15<00:00, 90.78it/s, loss=1.84e+5, metrics={'r2': -1.2531}] \n",
      "epoch 2: 100%|██████████| 1366/1366 [00:11<00:00, 115.87it/s, loss=9.93e+4, metrics={'r2': 0.4928}]\n",
      "epoch 3: 100%|██████████| 1366/1366 [00:11<00:00, 116.34it/s, loss=8.01e+4, metrics={'r2': 0.6769}]\n",
      "epoch 4: 100%|██████████| 1366/1366 [00:11<00:00, 116.38it/s, loss=6.71e+4, metrics={'r2': 0.789}] \n",
      "epoch 5: 100%|██████████| 1366/1366 [00:11<00:00, 116.26it/s, loss=6.21e+4, metrics={'r2': 0.8243}]\n",
      "epoch 6: 100%|██████████| 1366/1366 [00:12<00:00, 112.93it/s, loss=6e+4, metrics={'r2': 0.838}]    \n",
      "epoch 7: 100%|██████████| 1366/1366 [00:11<00:00, 118.30it/s, loss=5.88e+4, metrics={'r2': 0.8447}]\n",
      "epoch 8: 100%|██████████| 1366/1366 [00:11<00:00, 116.75it/s, loss=5.77e+4, metrics={'r2': 0.8506}]\n",
      "epoch 9: 100%|██████████| 1366/1366 [00:12<00:00, 111.96it/s, loss=5.67e+4, metrics={'r2': 0.856}] \n",
      "epoch 10: 100%|██████████| 1366/1366 [00:12<00:00, 112.16it/s, loss=5.6e+4, metrics={'r2': 0.8594}] \n",
      "epoch 11: 100%|██████████| 1366/1366 [00:12<00:00, 111.98it/s, loss=5.53e+4, metrics={'r2': 0.8632}]\n",
      "epoch 12: 100%|██████████| 1366/1366 [00:11<00:00, 115.05it/s, loss=5.49e+4, metrics={'r2': 0.8651}]\n",
      "epoch 13: 100%|██████████| 1366/1366 [00:11<00:00, 117.23it/s, loss=5.43e+4, metrics={'r2': 0.8679}]\n",
      "epoch 14: 100%|██████████| 1366/1366 [00:11<00:00, 119.27it/s, loss=5.39e+4, metrics={'r2': 0.8699}]\n",
      "epoch 15: 100%|██████████| 1366/1366 [00:11<00:00, 119.88it/s, loss=5.34e+4, metrics={'r2': 0.8726}]\n",
      "epoch 16: 100%|██████████| 1366/1366 [00:11<00:00, 116.23it/s, loss=5.3e+4, metrics={'r2': 0.8744}] \n",
      "epoch 17: 100%|██████████| 1366/1366 [00:12<00:00, 111.92it/s, loss=5.26e+4, metrics={'r2': 0.8766}]\n",
      "epoch 18: 100%|██████████| 1366/1366 [00:12<00:00, 111.81it/s, loss=5.21e+4, metrics={'r2': 0.8788}]\n",
      "epoch 19: 100%|██████████| 1366/1366 [00:12<00:00, 111.54it/s, loss=5.16e+4, metrics={'r2': 0.8812}]\n",
      "epoch 20: 100%|██████████| 1366/1366 [00:12<00:00, 112.62it/s, loss=5.12e+4, metrics={'r2': 0.883}] \n",
      "epoch 21: 100%|██████████| 1366/1366 [00:12<00:00, 108.67it/s, loss=5.08e+4, metrics={'r2': 0.885}] \n",
      "epoch 22: 100%|██████████| 1366/1366 [00:11<00:00, 118.12it/s, loss=5.03e+4, metrics={'r2': 0.8876}]\n",
      "epoch 23: 100%|██████████| 1366/1366 [00:12<00:00, 110.86it/s, loss=5.01e+4, metrics={'r2': 0.8882}]\n",
      "epoch 24: 100%|██████████| 1366/1366 [00:12<00:00, 107.68it/s, loss=4.95e+4, metrics={'r2': 0.891}] \n",
      "epoch 25: 100%|██████████| 1366/1366 [00:12<00:00, 109.30it/s, loss=4.94e+4, metrics={'r2': 0.8912}]\n",
      "epoch 26: 100%|██████████| 1366/1366 [00:12<00:00, 109.42it/s, loss=4.92e+4, metrics={'r2': 0.8922}]\n",
      "epoch 27: 100%|██████████| 1366/1366 [00:12<00:00, 109.11it/s, loss=4.9e+4, metrics={'r2': 0.893}]  \n",
      "epoch 28: 100%|██████████| 1366/1366 [00:12<00:00, 109.53it/s, loss=4.9e+4, metrics={'r2': 0.8933}] \n",
      "epoch 29: 100%|██████████| 1366/1366 [00:12<00:00, 108.83it/s, loss=4.88e+4, metrics={'r2': 0.894}] \n",
      "epoch 30: 100%|██████████| 1366/1366 [00:12<00:00, 109.47it/s, loss=4.87e+4, metrics={'r2': 0.8944}]\n",
      "epoch 31: 100%|██████████| 1366/1366 [00:12<00:00, 108.72it/s, loss=4.84e+4, metrics={'r2': 0.8957}]\n",
      "epoch 32: 100%|██████████| 1366/1366 [00:12<00:00, 108.75it/s, loss=4.83e+4, metrics={'r2': 0.8961}]\n",
      "epoch 33: 100%|██████████| 1366/1366 [00:12<00:00, 108.42it/s, loss=4.83e+4, metrics={'r2': 0.8961}]\n",
      "epoch 34: 100%|██████████| 1366/1366 [00:12<00:00, 107.55it/s, loss=4.81e+4, metrics={'r2': 0.8969}]\n",
      "epoch 35: 100%|██████████| 1366/1366 [00:12<00:00, 108.17it/s, loss=4.81e+4, metrics={'r2': 0.8965}]\n",
      "epoch 36: 100%|██████████| 1366/1366 [00:12<00:00, 108.35it/s, loss=4.82e+4, metrics={'r2': 0.8964}]\n",
      "epoch 37: 100%|██████████| 1366/1366 [00:12<00:00, 108.27it/s, loss=4.8e+4, metrics={'r2': 0.8971}] \n",
      "epoch 38: 100%|██████████| 1366/1366 [00:12<00:00, 108.31it/s, loss=4.79e+4, metrics={'r2': 0.8977}]\n",
      "epoch 39: 100%|██████████| 1366/1366 [00:12<00:00, 109.07it/s, loss=4.77e+4, metrics={'r2': 0.8986}]\n",
      "epoch 40: 100%|██████████| 1366/1366 [00:12<00:00, 108.56it/s, loss=4.78e+4, metrics={'r2': 0.8981}]\n",
      "epoch 41: 100%|██████████| 1366/1366 [00:12<00:00, 108.79it/s, loss=4.77e+4, metrics={'r2': 0.8984}]\n",
      "epoch 42: 100%|██████████| 1366/1366 [00:12<00:00, 108.81it/s, loss=4.76e+4, metrics={'r2': 0.8988}]\n",
      "epoch 43: 100%|██████████| 1366/1366 [00:12<00:00, 108.31it/s, loss=4.75e+4, metrics={'r2': 0.8995}]\n",
      "epoch 44: 100%|██████████| 1366/1366 [00:12<00:00, 108.65it/s, loss=4.74e+4, metrics={'r2': 0.8995}]\n",
      "epoch 45: 100%|██████████| 1366/1366 [00:12<00:00, 108.61it/s, loss=4.76e+4, metrics={'r2': 0.8989}]\n",
      "epoch 46: 100%|██████████| 1366/1366 [00:12<00:00, 108.91it/s, loss=4.76e+4, metrics={'r2': 0.8986}]\n",
      "epoch 47: 100%|██████████| 1366/1366 [00:12<00:00, 108.41it/s, loss=4.74e+4, metrics={'r2': 0.8996}]\n",
      "epoch 48: 100%|██████████| 1366/1366 [00:12<00:00, 108.66it/s, loss=4.74e+4, metrics={'r2': 0.8996}]\n",
      "epoch 49: 100%|██████████| 1366/1366 [00:12<00:00, 108.65it/s, loss=4.73e+4, metrics={'r2': 0.9002}]\n",
      "epoch 50: 100%|██████████| 1366/1366 [00:12<00:00, 108.50it/s, loss=4.72e+4, metrics={'r2': 0.9005}]\n",
      "epoch 51: 100%|██████████| 1366/1366 [00:12<00:00, 108.40it/s, loss=4.72e+4, metrics={'r2': 0.9007}]\n",
      "epoch 52: 100%|██████████| 1366/1366 [00:12<00:00, 108.73it/s, loss=4.71e+4, metrics={'r2': 0.9008}]\n",
      "epoch 53: 100%|██████████| 1366/1366 [00:12<00:00, 108.92it/s, loss=4.7e+4, metrics={'r2': 0.9012}] \n",
      "epoch 54: 100%|██████████| 1366/1366 [00:12<00:00, 108.56it/s, loss=4.7e+4, metrics={'r2': 0.9013}] \n",
      "epoch 55: 100%|██████████| 1366/1366 [00:12<00:00, 108.26it/s, loss=4.72e+4, metrics={'r2': 0.9003}]\n",
      "epoch 56: 100%|██████████| 1366/1366 [00:12<00:00, 108.55it/s, loss=4.71e+4, metrics={'r2': 0.9011}]\n",
      "epoch 57: 100%|██████████| 1366/1366 [00:12<00:00, 108.48it/s, loss=4.67e+4, metrics={'r2': 0.9024}]\n",
      "epoch 58: 100%|██████████| 1366/1366 [00:12<00:00, 108.21it/s, loss=4.67e+4, metrics={'r2': 0.9027}]\n",
      "epoch 59: 100%|██████████| 1366/1366 [00:12<00:00, 107.06it/s, loss=4.69e+4, metrics={'r2': 0.9015}]\n",
      "epoch 60: 100%|██████████| 1366/1366 [00:12<00:00, 108.29it/s, loss=4.67e+4, metrics={'r2': 0.9029}]\n"
     ]
    }
   ],
   "source": [
    "trainer = Trainer(model, objective='rmse', metrics=[R2Score], num_workers=0)\n",
    "trainer.fit(X_tab=X_tab, target=y_train, n_epochs=60, batch_size=64)"
   ]
  },
  {
   "cell_type": "code",
   "execution_count": 49,
   "metadata": {},
   "outputs": [],
   "source": [
    "trainer.save(path='./models', model_filename='b2_model')"
   ]
  },
  {
   "cell_type": "markdown",
   "metadata": {},
   "source": [
    ">Report the test RMSE and the test R2 value that you obtained."
   ]
  },
  {
   "cell_type": "code",
   "execution_count": 30,
   "metadata": {},
   "outputs": [
    {
     "name": "stderr",
     "output_type": "stream",
     "text": [
      "predict: 100%|██████████| 1128/1128 [00:02<00:00, 402.38it/s]\n"
     ]
    },
    {
     "name": "stdout",
     "output_type": "stream",
     "text": [
      "RMSE:  106457.01843640397\n",
      "R2:  0.6040438184895371\n"
     ]
    }
   ],
   "source": [
    "predictions = trainer.predict(X_tab=X_tab_test,batch_size=64)\n",
    "print(\"RMSE: \", np.sqrt(mean_squared_error(y_test, predictions)))\n",
    "print(\"R2: \", r2_score(y_test, predictions))"
   ]
  },
  {
   "cell_type": "markdown",
   "metadata": {},
   "source": [
    "Part B, Q3 (10 marks)\n",
    "---\n",
    "Besides ensuring that your neural network performs well, it is important to be able to explain the model’s decision. **Captum** is a very handy library that helps you to do so for PyTorch models.\n",
    "\n",
    "Many model explainability algorithms for deep learning models are available in Captum. These algorithms are often used to generate an attribution score for each feature. Features with larger scores are more ‘important’ and some algorithms also provide information about directionality (i.e. a feature with very negative attribution scores means the larger the value of that feature, the lower the value of the output).\n",
    "\n",
    "In general, these algorithms can be grouped into two paradigms:\n",
    "- **perturbation based approaches** (e.g. Feature Ablation)\n",
    "- **gradient / backpropagation based approaches** (e.g. Saliency)\n",
    "\n",
    "The former adopts a brute-force approach of removing / permuting features one by one and does not scale up well. The latter depends on gradients and they can be computed relatively quickly. But unlike how backpropagation computes gradients with respect to weights, gradients here are computed **with respect to the input**. This gives us a sense of how much a change in the input affects the model’s outputs.\n",
    "\n"
   ]
  },
  {
   "cell_type": "markdown",
   "metadata": {},
   "source": [
    "\n",
    "---\n",
    "\n"
   ]
  },
  {
   "cell_type": "code",
   "execution_count": 32,
   "metadata": {},
   "outputs": [
    {
     "name": "stdout",
     "output_type": "stream",
     "text": [
      "Requirement already satisfied: captum in ./.venv/lib/python3.11/site-packages (0.7.0)\n",
      "Requirement already satisfied: matplotlib in ./.venv/lib/python3.11/site-packages (from captum) (3.10.1)\n",
      "Requirement already satisfied: numpy in ./.venv/lib/python3.11/site-packages (from captum) (1.26.4)\n",
      "Requirement already satisfied: torch>=1.6 in ./.venv/lib/python3.11/site-packages (from captum) (2.6.0)\n",
      "Requirement already satisfied: tqdm in ./.venv/lib/python3.11/site-packages (from captum) (4.67.1)\n",
      "Requirement already satisfied: filelock in ./.venv/lib/python3.11/site-packages (from torch>=1.6->captum) (3.17.0)\n",
      "Requirement already satisfied: typing-extensions>=4.10.0 in ./.venv/lib/python3.11/site-packages (from torch>=1.6->captum) (4.12.2)\n",
      "Requirement already satisfied: networkx in ./.venv/lib/python3.11/site-packages (from torch>=1.6->captum) (3.4.2)\n",
      "Requirement already satisfied: jinja2 in ./.venv/lib/python3.11/site-packages (from torch>=1.6->captum) (3.1.5)\n",
      "Requirement already satisfied: fsspec in ./.venv/lib/python3.11/site-packages (from torch>=1.6->captum) (2025.2.0)\n",
      "Requirement already satisfied: sympy==1.13.1 in ./.venv/lib/python3.11/site-packages (from torch>=1.6->captum) (1.13.1)\n",
      "Requirement already satisfied: mpmath<1.4,>=1.1.0 in ./.venv/lib/python3.11/site-packages (from sympy==1.13.1->torch>=1.6->captum) (1.3.0)\n",
      "Requirement already satisfied: contourpy>=1.0.1 in ./.venv/lib/python3.11/site-packages (from matplotlib->captum) (1.3.1)\n",
      "Requirement already satisfied: cycler>=0.10 in ./.venv/lib/python3.11/site-packages (from matplotlib->captum) (0.12.1)\n",
      "Requirement already satisfied: fonttools>=4.22.0 in ./.venv/lib/python3.11/site-packages (from matplotlib->captum) (4.56.0)\n",
      "Requirement already satisfied: kiwisolver>=1.3.1 in ./.venv/lib/python3.11/site-packages (from matplotlib->captum) (1.4.8)\n",
      "Requirement already satisfied: packaging>=20.0 in ./.venv/lib/python3.11/site-packages (from matplotlib->captum) (24.2)\n",
      "Requirement already satisfied: pillow>=8 in ./.venv/lib/python3.11/site-packages (from matplotlib->captum) (11.1.0)\n",
      "Requirement already satisfied: pyparsing>=2.3.1 in ./.venv/lib/python3.11/site-packages (from matplotlib->captum) (3.2.1)\n",
      "Requirement already satisfied: python-dateutil>=2.7 in ./.venv/lib/python3.11/site-packages (from matplotlib->captum) (2.9.0.post0)\n",
      "Requirement already satisfied: six>=1.5 in ./.venv/lib/python3.11/site-packages (from python-dateutil>=2.7->matplotlib->captum) (1.17.0)\n",
      "Requirement already satisfied: MarkupSafe>=2.0 in ./.venv/lib/python3.11/site-packages (from jinja2->torch>=1.6->captum) (3.0.2)\n",
      "Note: you may need to restart the kernel to use updated packages.\n"
     ]
    }
   ],
   "source": [
    "pip install \"captum\""
   ]
  },
  {
   "cell_type": "code",
   "execution_count": 55,
   "metadata": {},
   "outputs": [],
   "source": [
    "from captum.attr import Saliency, InputXGradient, IntegratedGradients, GradientShap, FeatureAblation\n",
    "from torch.utils.data import DataLoader, TensorDataset\n",
    "from os import path\n",
    "import matplotlib.pyplot as plt"
   ]
  },
  {
   "cell_type": "markdown",
   "metadata": {},
   "source": [
    "> First, use the train set (year 2020 and before) and test set (year 2021) following the splits in Question B1 (validation set is not required here). To keep things simple, we will **limit our analysis to numeric / continuous features only**. Drop all categorical features from the dataframes. Standardise the features via **StandardScaler** (fit to training set, then transform all)."
   ]
  },
  {
   "cell_type": "code",
   "execution_count": 38,
   "metadata": {},
   "outputs": [],
   "source": [
    "df = pd.read_csv('hdb_price_prediction.csv')\n",
    "continuous_cols=[\"dist_to_nearest_stn\", \"dist_to_dhoby\", \"degree_centrality\",\n",
    "                     \"eigenvector_centrality\", \"remaining_lease_years\", \"floor_area_sqm\"]\n",
    "categorical_cols=[\"month\", \"town\", \"flat_model_type\", \"storey_range\"]\n",
    "\n",
    "df.drop(categorical_cols, axis=1, inplace=True)\n",
    "\n",
    "df_train = df[df['year'] <= 2020]\n",
    "df_test = df[df['year'] == 2021] "
   ]
  },
  {
   "cell_type": "markdown",
   "metadata": {},
   "source": [
    "> Follow this tutorial to generate the plot from various model explainability algorithms (https://captum.ai/tutorials/House_Prices_Regression_Interpret).\n",
    "Specifically, make the following changes:\n",
    "- Use a feedforward neural network with 3 hidden layers, each having 5 neurons. Train using Adam optimiser with learning rate of 0.001.\n",
    "- Use Input x Gradients, Integrated Gradients, DeepLift, GradientSHAP, Feature Ablation. To avoid long running time, you can limit the analysis to the first 1000 samples in test set."
   ]
  },
  {
   "cell_type": "code",
   "execution_count": 43,
   "metadata": {},
   "outputs": [],
   "source": [
    "n = 1000\n",
    "target = ['resale_price']\n",
    "n_epochs = 60\n",
    "batch_size = 64\n",
    "lr = 0.001\n",
    "hidden_neuron = 5\n",
    "\n",
    "X_train = torch.tensor(df_train[continuous_cols].values).float()\n",
    "y_train = torch.tensor(df_train[target].values).view(-1, 1).float()\n",
    "\n",
    "X_test = torch.tensor(df_test[continuous_cols].values).float()\n",
    "y_test = torch.tensor(df_test[target].values).view(-1, 1).float()\n",
    "\n",
    "train_dataset = TensorDataset(X_train, y_train)\n",
    "test_dataset = TensorDataset(X_test, y_test)\n",
    "\n",
    "train_dataloader = DataLoader(train_dataset, batch_size=batch_size, shuffle=True)\n",
    "test_dataloader = DataLoader(test_dataset, batch_size=batch_size, shuffle=True)"
   ]
  },
  {
   "cell_type": "code",
   "execution_count": 44,
   "metadata": {},
   "outputs": [
    {
     "data": {
      "text/plain": [
       "b3_model(\n",
       "  (lin1): Linear(in_features=6, out_features=5, bias=True)\n",
       "  (relu1): ReLU()\n",
       "  (lin2): Linear(in_features=5, out_features=5, bias=True)\n",
       "  (relu2): ReLU()\n",
       "  (lin3): Linear(in_features=5, out_features=5, bias=True)\n",
       "  (relu3): ReLU()\n",
       "  (lin4): Linear(in_features=5, out_features=1, bias=True)\n",
       ")"
      ]
     },
     "execution_count": 44,
     "metadata": {},
     "output_type": "execute_result"
    }
   ],
   "source": [
    "class b3_model(nn.Module):\n",
    "    def __init__(self):\n",
    "        super().__init__()\n",
    "        self.lin1 = nn.Linear(6, hidden_neuron)\n",
    "        self.relu1 = nn.ReLU()\n",
    "        self.lin2 = nn.Linear(hidden_neuron, hidden_neuron)\n",
    "        self.relu2 = nn.ReLU()\n",
    "        self.lin3 = nn.Linear(hidden_neuron, hidden_neuron)\n",
    "        self.relu3 = nn.ReLU()\n",
    "        self.lin4 = nn.Linear(hidden_neuron, 1)\n",
    "    \n",
    "    def forward(self, input):\n",
    "        return self.lin4(self.relu3(self.lin3(self.relu2(self.lin2(self.relu1(self.lin1(input)))))))\n",
    "    \n",
    "model = b3_model()\n",
    "model.train()"
   ]
  },
  {
   "cell_type": "code",
   "execution_count": null,
   "metadata": {},
   "outputs": [],
   "source": [
    "criterion = nn.MSELoss(reduction='sum')\n",
    "optimizer = torch.optim.Adam(model.parameters(), lr=lr)\n",
    "\n",
    "def train(model_inp, optimizer, num_epochs = n_epochs):\n",
    "    for epoch in range(num_epochs):  # loop over the dataset multiple times\n",
    "        running_loss = 0.0\n",
    "        for inputs, labels in train_dataloader:\n",
    "            # forward pass\n",
    "            outputs = model_inp(inputs)\n",
    "            # defining loss\n",
    "            loss = criterion(outputs, labels)\n",
    "            # zero the parameter gradients\n",
    "            optimizer.zero_grad()\n",
    "            # computing gradients\n",
    "            loss.backward()\n",
    "            # accumulating running loss\n",
    "            running_loss += loss.item()\n",
    "            # updated weights based on computed gradients\n",
    "            optimizer.step()\n",
    "        if epoch % 20 == 0:    \n",
    "            print('Epoch [%d]/[%d] running accumulative loss across all batches: %.3f' %\n",
    "                  (epoch + 1, num_epochs, running_loss))\n",
    "        running_loss = 0.0"
   ]
  },
  {
   "cell_type": "code",
   "execution_count": 50,
   "metadata": {},
   "outputs": [
    {
     "name": "stdout",
     "output_type": "stream",
     "text": [
      "Loading pre-trained model from: models/b3_model\n"
     ]
    }
   ],
   "source": [
    "def train_load_save_model(model_obj, model_path):\n",
    "    if path.isfile(model_path):\n",
    "        # load model\n",
    "        print('Loading pre-trained model from: {}'.format(model_path))\n",
    "        model_obj.load_state_dict(torch.load(model_path))\n",
    "    else:    \n",
    "        # train model\n",
    "        train(model_obj)\n",
    "        print('Finished training the model. Saving the model to the path: {}'.format(model_path))\n",
    "        torch.save(model_obj.state_dict(), model_path)\n",
    "\n",
    "SAVED_MODEL_PATH = 'models/b3_model'\n",
    "train_load_save_model(model, SAVED_MODEL_PATH)"
   ]
  },
  {
   "cell_type": "code",
   "execution_count": 52,
   "metadata": {},
   "outputs": [
    {
     "name": "stdout",
     "output_type": "stream",
     "text": [
      "RMSE:  90977.40413970932\n"
     ]
    }
   ],
   "source": [
    "model.eval()\n",
    "outputs = model(X_test)\n",
    "err = np.sqrt(mean_squared_error(outputs.detach().numpy(), y_test.detach().numpy()))\n",
    "\n",
    "print('RMSE: ', err)"
   ]
  },
  {
   "cell_type": "code",
   "execution_count": 53,
   "metadata": {},
   "outputs": [
    {
     "name": "stderr",
     "output_type": "stream",
     "text": [
      "/Users/yuki/Library/Mobile Documents/com~apple~CloudDocs/NTU/Y2S2/SC4001/Projects/Assignment1/.venv/lib/python3.11/site-packages/captum/_utils/gradient.py:57: UserWarning: Input Tensor 0 did not already require gradients, required_grads has been set automatically.\n",
      "  warnings.warn(\n"
     ]
    }
   ],
   "source": [
    "sal = Saliency(model)\n",
    "ixg = InputXGradient(model)\n",
    "ig = IntegratedGradients(model)\n",
    "gs = GradientShap(model)\n",
    "fa = FeatureAblation(model)\n",
    "\n",
    "shortened_X_test = X_test[:n]\n",
    "\n",
    "sal_attr_test = sal.attribute(shortened_X_test)\n",
    "ixg_attr_test = ixg.attribute(shortened_X_test)\n",
    "ig_attr_test = ig.attribute(shortened_X_test, n_steps=50)\n",
    "gs_attr_test = gs.attribute(shortened_X_test, X_train)\n",
    "fa_attr_test = fa.attribute(shortened_X_test)"
   ]
  },
  {
   "cell_type": "code",
   "execution_count": 56,
   "metadata": {},
   "outputs": [
    {
     "data": {
      "image/png": "[encoded data removed]",
      "text/plain": [
       "<Figure size 2000x1000 with 1 Axes>"
      ]
     },
     "metadata": {},
     "output_type": "display_data"
    }
   ],
   "source": [
    "feature_names = df_train.drop(target, axis=1).columns\n",
    "\n",
    "x_axis_data = np.arange(X_test.shape[1])\n",
    "x_axis_data_labels = list(map(lambda idx: feature_names[idx], x_axis_data))\n",
    "\n",
    "sal_attr_test_sum = sal_attr_test.detach().numpy().sum(0)\n",
    "sal_attr_test_norm_sum = sal_attr_test_sum / np.linalg.norm(sal_attr_test_sum, ord=1)\n",
    "\n",
    "ixg_attr_test_sum = ixg_attr_test.detach().numpy().sum(0)\n",
    "ixg_attr_test_norm_sum = ixg_attr_test_sum / np.linalg.norm(ixg_attr_test_sum, ord=1)\n",
    "\n",
    "ig_attr_test_sum = ig_attr_test.detach().numpy().sum(0)\n",
    "ig_attr_test_norm_sum = ig_attr_test_sum / np.linalg.norm(ig_attr_test_sum, ord=1)\n",
    "\n",
    "gs_attr_test_sum = gs_attr_test.detach().numpy().sum(0)\n",
    "gs_attr_test_norm_sum = gs_attr_test_sum / np.linalg.norm(gs_attr_test_sum, ord=1)\n",
    "\n",
    "fa_attr_test_sum = fa_attr_test.detach().numpy().sum(0)\n",
    "fa_attr_test_norm_sum = fa_attr_test_sum / np.linalg.norm(fa_attr_test_sum, ord=1)\n",
    "\n",
    "width = 0.14\n",
    "legends = ['Saliency','Input x Gradients', 'Integrated Gradients', 'GradientSHAP', 'Feature Ablation']\n",
    "\n",
    "plt.figure(figsize=(20, 10))\n",
    "\n",
    "ax = plt.subplot()\n",
    "ax.set_title('Comparing input feature importances across multiple algorithms and learned weights')\n",
    "ax.set_ylabel('Attributions')\n",
    "\n",
    "FONT_SIZE = 16\n",
    "plt.rc('font', size=FONT_SIZE)            # fontsize of the text sizes\n",
    "plt.rc('axes', titlesize=FONT_SIZE)       # fontsize of the axes title\n",
    "plt.rc('axes', labelsize=FONT_SIZE)       # fontsize of the x and y labels\n",
    "plt.rc('legend', fontsize=FONT_SIZE - 4)  # fontsize of the legend\n",
    "\n",
    "ax.bar(x_axis_data, sal_attr_test_norm_sum, width, align='center', alpha=0.8, color='#f5a142')\n",
    "ax.bar(x_axis_data + width, ixg_attr_test_norm_sum, width, align='center', alpha=0.8, color='#f5428d')\n",
    "ax.bar(x_axis_data + 2 * width, ig_attr_test_norm_sum, width, align='center', alpha=0.8, color='#eb5e7c')\n",
    "ax.bar(x_axis_data + 3 * width, gs_attr_test_norm_sum, width, align='center',  alpha=0.8, color='#4260f5')\n",
    "ax.bar(x_axis_data + 4 * width, fa_attr_test_norm_sum, width, align='center', alpha=1.0, color='#49ba81')\n",
    "\n",
    "ax.autoscale_view()\n",
    "plt.tight_layout()\n",
    "\n",
    "ax.set_xticks(x_axis_data + 0.5)\n",
    "ax.set_xticklabels(x_axis_data_labels)\n",
    "\n",
    "plt.legend(legends, loc=3)\n",
    "plt.show()"
   ]
  },
  {
   "cell_type": "markdown",
   "metadata": {},
   "source": [
    "> Read the following [descriptions](https://captum.ai/docs/attribution_algorithms) and [comparisons](https://captum.ai/docs/algorithms_comparison_matrix) in Captum to build up your understanding of the difference of various explainability algorithms. Based on your plot, identify the three most important features for regression. Explain how each of these features influences the regression outcome.\n"
   ]
  },
  {
   "cell_type": "markdown",
   "metadata": {},
   "source": [
    "\\# TODO: \\<Enter your answer here\\>"
   ]
  },
  {
   "cell_type": "markdown",
   "metadata": {},
   "source": [
    "Part B, Q4 (10 marks)\n",
    "---\n",
    "\n",
    "Model degradation is a common issue faced when deploying machine learning models (including neural networks) in the real world. New data points could exhibit a different pattern from older data points due to factors such as changes in government policy or market sentiments. For instance, housing prices in Singapore have been increasing and the Singapore government has introduced 3 rounds of cooling measures over the past years (16 December 2021, 30 September 2022, 27 April 2023).\n",
    "\n",
    "In such situations, the distribution of the new data points could differ from the original data distribution which the models were trained on. Recall that machine learning models often work with the assumption that the test distribution should be similar to train distribution. When this assumption is violated, model performance will be adversely impacted.  In the last part of this assignment, we will investigate to what extent model degradation has occurred.\n"
   ]
  },
  {
   "cell_type": "markdown",
   "metadata": {},
   "source": [
    "\n",
    "\n",
    "---\n",
    "\n"
   ]
  },
  {
   "cell_type": "code",
   "execution_count": 9,
   "metadata": {},
   "outputs": [
    {
     "name": "stdout",
     "output_type": "stream",
     "text": [
      "Requirement already satisfied: alibi-detect in ./.venv/lib/python3.11/site-packages (0.12.0)\n",
      "Requirement already satisfied: matplotlib<4.0.0,>=3.0.0 in ./.venv/lib/python3.11/site-packages (from alibi-detect) (3.10.1)\n",
      "Requirement already satisfied: numpy<2.0.0,>=1.16.2 in ./.venv/lib/python3.11/site-packages (from alibi-detect) (1.26.4)\n",
      "Requirement already satisfied: pandas<3.0.0,>=1.0.0 in ./.venv/lib/python3.11/site-packages (from alibi-detect) (2.2.3)\n",
      "Requirement already satisfied: Pillow<11.0.0,>=5.4.1 in ./.venv/lib/python3.11/site-packages (from alibi-detect) (10.4.0)\n",
      "Requirement already satisfied: opencv-python<5.0.0,>=3.2.0 in ./.venv/lib/python3.11/site-packages (from alibi-detect) (4.11.0.86)\n",
      "Requirement already satisfied: scipy<2.0.0,>=1.3.0 in ./.venv/lib/python3.11/site-packages (from alibi-detect) (1.12.0)\n",
      "Requirement already satisfied: scikit-image<0.23,>=0.19 in ./.venv/lib/python3.11/site-packages (from alibi-detect) (0.22.0)\n",
      "Requirement already satisfied: scikit-learn<2.0.0,>=0.20.2 in ./.venv/lib/python3.11/site-packages (from alibi-detect) (1.6.1)\n",
      "Requirement already satisfied: transformers<5.0.0,>=4.0.0 in ./.venv/lib/python3.11/site-packages (from alibi-detect) (4.49.0)\n",
      "Requirement already satisfied: dill<0.4.0,>=0.3.0 in ./.venv/lib/python3.11/site-packages (from alibi-detect) (0.3.9)\n",
      "Requirement already satisfied: tqdm<5.0.0,>=4.28.1 in ./.venv/lib/python3.11/site-packages (from alibi-detect) (4.67.1)\n",
      "Requirement already satisfied: requests<3.0.0,>=2.21.0 in ./.venv/lib/python3.11/site-packages (from alibi-detect) (2.32.3)\n",
      "Requirement already satisfied: pydantic<3.0.0,>=1.8.0 in ./.venv/lib/python3.11/site-packages (from alibi-detect) (2.10.6)\n",
      "Requirement already satisfied: toml<1.0.0,>=0.10.1 in ./.venv/lib/python3.11/site-packages (from alibi-detect) (0.10.2)\n",
      "Requirement already satisfied: catalogue<3.0.0,>=2.0.0 in ./.venv/lib/python3.11/site-packages (from alibi-detect) (2.0.10)\n",
      "Requirement already satisfied: numba!=0.54.0,<0.60.0,>=0.50.0 in ./.venv/lib/python3.11/site-packages (from alibi-detect) (0.59.1)\n",
      "Requirement already satisfied: typing-extensions>=3.7.4.3 in ./.venv/lib/python3.11/site-packages (from alibi-detect) (4.12.2)\n",
      "Requirement already satisfied: contourpy>=1.0.1 in ./.venv/lib/python3.11/site-packages (from matplotlib<4.0.0,>=3.0.0->alibi-detect) (1.3.1)\n",
      "Requirement already satisfied: cycler>=0.10 in ./.venv/lib/python3.11/site-packages (from matplotlib<4.0.0,>=3.0.0->alibi-detect) (0.12.1)\n",
      "Requirement already satisfied: fonttools>=4.22.0 in ./.venv/lib/python3.11/site-packages (from matplotlib<4.0.0,>=3.0.0->alibi-detect) (4.56.0)\n",
      "Requirement already satisfied: kiwisolver>=1.3.1 in ./.venv/lib/python3.11/site-packages (from matplotlib<4.0.0,>=3.0.0->alibi-detect) (1.4.8)\n",
      "Requirement already satisfied: packaging>=20.0 in ./.venv/lib/python3.11/site-packages (from matplotlib<4.0.0,>=3.0.0->alibi-detect) (24.2)\n",
      "Requirement already satisfied: pyparsing>=2.3.1 in ./.venv/lib/python3.11/site-packages (from matplotlib<4.0.0,>=3.0.0->alibi-detect) (3.2.1)\n",
      "Requirement already satisfied: python-dateutil>=2.7 in ./.venv/lib/python3.11/site-packages (from matplotlib<4.0.0,>=3.0.0->alibi-detect) (2.9.0.post0)\n",
      "Requirement already satisfied: llvmlite<0.43,>=0.42.0dev0 in ./.venv/lib/python3.11/site-packages (from numba!=0.54.0,<0.60.0,>=0.50.0->alibi-detect) (0.42.0)\n",
      "Requirement already satisfied: pytz>=2020.1 in ./.venv/lib/python3.11/site-packages (from pandas<3.0.0,>=1.0.0->alibi-detect) (2025.1)\n",
      "Requirement already satisfied: tzdata>=2022.7 in ./.venv/lib/python3.11/site-packages (from pandas<3.0.0,>=1.0.0->alibi-detect) (2025.1)\n",
      "Requirement already satisfied: annotated-types>=0.6.0 in ./.venv/lib/python3.11/site-packages (from pydantic<3.0.0,>=1.8.0->alibi-detect) (0.7.0)\n",
      "Requirement already satisfied: pydantic-core==2.27.2 in ./.venv/lib/python3.11/site-packages (from pydantic<3.0.0,>=1.8.0->alibi-detect) (2.27.2)\n",
      "Requirement already satisfied: charset-normalizer<4,>=2 in ./.venv/lib/python3.11/site-packages (from requests<3.0.0,>=2.21.0->alibi-detect) (3.4.1)\n",
      "Requirement already satisfied: idna<4,>=2.5 in ./.venv/lib/python3.11/site-packages (from requests<3.0.0,>=2.21.0->alibi-detect) (3.10)\n",
      "Requirement already satisfied: urllib3<3,>=1.21.1 in ./.venv/lib/python3.11/site-packages (from requests<3.0.0,>=2.21.0->alibi-detect) (2.3.0)\n",
      "Requirement already satisfied: certifi>=2017.4.17 in ./.venv/lib/python3.11/site-packages (from requests<3.0.0,>=2.21.0->alibi-detect) (2025.1.31)\n",
      "Requirement already satisfied: networkx>=2.8 in ./.venv/lib/python3.11/site-packages (from scikit-image<0.23,>=0.19->alibi-detect) (3.4.2)\n",
      "Requirement already satisfied: imageio>=2.27 in ./.venv/lib/python3.11/site-packages (from scikit-image<0.23,>=0.19->alibi-detect) (2.37.0)\n",
      "Requirement already satisfied: tifffile>=2022.8.12 in ./.venv/lib/python3.11/site-packages (from scikit-image<0.23,>=0.19->alibi-detect) (2025.2.18)\n",
      "Requirement already satisfied: lazy_loader>=0.3 in ./.venv/lib/python3.11/site-packages (from scikit-image<0.23,>=0.19->alibi-detect) (0.4)\n",
      "Requirement already satisfied: joblib>=1.2.0 in ./.venv/lib/python3.11/site-packages (from scikit-learn<2.0.0,>=0.20.2->alibi-detect) (1.4.2)\n",
      "Requirement already satisfied: threadpoolctl>=3.1.0 in ./.venv/lib/python3.11/site-packages (from scikit-learn<2.0.0,>=0.20.2->alibi-detect) (3.5.0)\n",
      "Requirement already satisfied: filelock in ./.venv/lib/python3.11/site-packages (from transformers<5.0.0,>=4.0.0->alibi-detect) (3.17.0)\n",
      "Requirement already satisfied: huggingface-hub<1.0,>=0.26.0 in ./.venv/lib/python3.11/site-packages (from transformers<5.0.0,>=4.0.0->alibi-detect) (0.29.2)\n",
      "Requirement already satisfied: pyyaml>=5.1 in ./.venv/lib/python3.11/site-packages (from transformers<5.0.0,>=4.0.0->alibi-detect) (6.0.2)\n",
      "Requirement already satisfied: regex!=2019.12.17 in ./.venv/lib/python3.11/site-packages (from transformers<5.0.0,>=4.0.0->alibi-detect) (2024.11.6)\n",
      "Requirement already satisfied: tokenizers<0.22,>=0.21 in ./.venv/lib/python3.11/site-packages (from transformers<5.0.0,>=4.0.0->alibi-detect) (0.21.0)\n",
      "Requirement already satisfied: safetensors>=0.4.1 in ./.venv/lib/python3.11/site-packages (from transformers<5.0.0,>=4.0.0->alibi-detect) (0.5.3)\n",
      "Requirement already satisfied: fsspec>=2023.5.0 in ./.venv/lib/python3.11/site-packages (from huggingface-hub<1.0,>=0.26.0->transformers<5.0.0,>=4.0.0->alibi-detect) (2025.2.0)\n",
      "Requirement already satisfied: six>=1.5 in ./.venv/lib/python3.11/site-packages (from python-dateutil>=2.7->matplotlib<4.0.0,>=3.0.0->alibi-detect) (1.17.0)\n",
      "Note: you may need to restart the kernel to use updated packages.\n"
     ]
    }
   ],
   "source": [
    "pip install \"alibi-detect\""
   ]
  },
  {
   "cell_type": "code",
   "execution_count": 10,
   "metadata": {},
   "outputs": [],
   "source": [
    "from alibi_detect.cd import TabularDrift"
   ]
  },
  {
   "cell_type": "markdown",
   "metadata": {},
   "source": [
    "> Evaluate your model from B1 on data from year 2022 and report the test R2."
   ]
  },
  {
   "cell_type": "code",
   "execution_count": 14,
   "metadata": {},
   "outputs": [
    {
     "data": {
      "text/html": [
       "<pre style=\"white-space:pre;overflow-x:auto;line-height:normal;font-family:Menlo,'DejaVu Sans Mono',consolas,'Courier New',monospace\"><span style=\"color: #008080; text-decoration-color: #008080; font-weight: bold\">2025</span>-<span style=\"color: #008080; text-decoration-color: #008080; font-weight: bold\">03</span>-<span style=\"color: #008080; text-decoration-color: #008080; font-weight: bold\">11</span> <span style=\"color: #00ff00; text-decoration-color: #00ff00; font-weight: bold\">10:15:55</span>,<span style=\"color: #008080; text-decoration-color: #008080; font-weight: bold\">838</span> - <span style=\"font-weight: bold\">{</span>pytorch_tabular.tabular_model:<span style=\"color: #008080; text-decoration-color: #008080; font-weight: bold\">171</span><span style=\"font-weight: bold\">}</span> - INFO - Experiment Tracking is turned off           \n",
       "</pre>\n"
      ],
      "text/plain": [
       "\u001b[1;36m2025\u001b[0m-\u001b[1;36m03\u001b[0m-\u001b[1;36m11\u001b[0m \u001b[1;92m10:15:55\u001b[0m,\u001b[1;36m838\u001b[0m - \u001b[1m{\u001b[0mpytorch_tabular.tabular_model:\u001b[1;36m171\u001b[0m\u001b[1m}\u001b[0m - INFO - Experiment Tracking is turned off           \n"
      ]
     },
     "metadata": {},
     "output_type": "display_data"
    },
    {
     "data": {
      "text/html": [
       "<pre style=\"white-space:pre;overflow-x:auto;line-height:normal;font-family:Menlo,'DejaVu Sans Mono',consolas,'Courier New',monospace\"><span style=\"color: #008080; text-decoration-color: #008080; font-weight: bold\">2025</span>-<span style=\"color: #008080; text-decoration-color: #008080; font-weight: bold\">03</span>-<span style=\"color: #008080; text-decoration-color: #008080; font-weight: bold\">11</span> <span style=\"color: #00ff00; text-decoration-color: #00ff00; font-weight: bold\">10:15:55</span>,<span style=\"color: #008080; text-decoration-color: #008080; font-weight: bold\">840</span> - <span style=\"font-weight: bold\">{</span>pytorch_tabular.tabular_model:<span style=\"color: #008080; text-decoration-color: #008080; font-weight: bold\">342</span><span style=\"font-weight: bold\">}</span> - INFO - Preparing the Trainer                       \n",
       "</pre>\n"
      ],
      "text/plain": [
       "\u001b[1;36m2025\u001b[0m-\u001b[1;36m03\u001b[0m-\u001b[1;36m11\u001b[0m \u001b[1;92m10:15:55\u001b[0m,\u001b[1;36m840\u001b[0m - \u001b[1m{\u001b[0mpytorch_tabular.tabular_model:\u001b[1;36m342\u001b[0m\u001b[1m}\u001b[0m - INFO - Preparing the Trainer                       \n"
      ]
     },
     "metadata": {},
     "output_type": "display_data"
    },
    {
     "name": "stderr",
     "output_type": "stream",
     "text": [
      "Trainer already configured with model summary callbacks: [<class 'pytorch_lightning.callbacks.rich_model_summary.RichModelSummary'>]. Skipping setting a default `ModelSummary` callback.\n",
      "GPU available: True (mps), used: True\n",
      "TPU available: False, using: 0 TPU cores\n",
      "HPU available: False, using: 0 HPUs\n"
     ]
    },
    {
     "data": {
      "application/vnd.jupyter.widget-view+json": {
       "model_id": "b96348f538b84cee968b0d004c82243b",
       "version_major": 2,
       "version_minor": 0
      },
      "text/plain": [
       "Output()"
      ]
     },
     "metadata": {},
     "output_type": "display_data"
    },
    {
     "name": "stderr",
     "output_type": "stream",
     "text": [
      "/Users/yuki/Library/Mobile Documents/com~apple~CloudDocs/NTU/Y2S2/SC4001/Projects/Assignment1/.venv/lib/python3.11/site-packages/pytorch_lightning/trainer/connectors/data_connector.py:424: The 'test_dataloader' does not have many workers which may be a bottleneck. Consider increasing the value of the `num_workers` argument` to `num_workers=9` in the `DataLoader` to improve performance.\n"
     ]
    },
    {
     "data": {
      "text/html": [
       "<pre style=\"white-space:pre;overflow-x:auto;line-height:normal;font-family:Menlo,'DejaVu Sans Mono',consolas,'Courier New',monospace\">┏━━━━━━━━━━━━━━━━━━━━━━━━━━━┳━━━━━━━━━━━━━━━━━━━━━━━━━━━┓\n",
       "┃<span style=\"font-weight: bold\">        Test metric        </span>┃<span style=\"font-weight: bold\">       DataLoader 0        </span>┃\n",
       "┡━━━━━━━━━━━━━━━━━━━━━━━━━━━╇━━━━━━━━━━━━━━━━━━━━━━━━━━━┩\n",
       "│<span style=\"color: #008080; text-decoration-color: #008080\">         test_loss         </span>│<span style=\"color: #800080; text-decoration-color: #800080\">       13752151040.0       </span>│\n",
       "│<span style=\"color: #008080; text-decoration-color: #008080\">  test_mean_squared_error  </span>│<span style=\"color: #800080; text-decoration-color: #800080\">       13752151040.0       </span>│\n",
       "│<span style=\"color: #008080; text-decoration-color: #008080\">       test_r2_score       </span>│<span style=\"color: #800080; text-decoration-color: #800080\">    0.5079993009567261     </span>│\n",
       "└───────────────────────────┴───────────────────────────┘\n",
       "</pre>\n"
      ],
      "text/plain": [
       "┏━━━━━━━━━━━━━━━━━━━━━━━━━━━┳━━━━━━━━━━━━━━━━━━━━━━━━━━━┓\n",
       "┃\u001b[1m \u001b[0m\u001b[1m       Test metric       \u001b[0m\u001b[1m \u001b[0m┃\u001b[1m \u001b[0m\u001b[1m      DataLoader 0       \u001b[0m\u001b[1m \u001b[0m┃\n",
       "┡━━━━━━━━━━━━━━━━━━━━━━━━━━━╇━━━━━━━━━━━━━━━━━━━━━━━━━━━┩\n",
       "│\u001b[36m \u001b[0m\u001b[36m        test_loss        \u001b[0m\u001b[36m \u001b[0m│\u001b[35m \u001b[0m\u001b[35m      13752151040.0      \u001b[0m\u001b[35m \u001b[0m│\n",
       "│\u001b[36m \u001b[0m\u001b[36m test_mean_squared_error \u001b[0m\u001b[36m \u001b[0m│\u001b[35m \u001b[0m\u001b[35m      13752151040.0      \u001b[0m\u001b[35m \u001b[0m│\n",
       "│\u001b[36m \u001b[0m\u001b[36m      test_r2_score      \u001b[0m\u001b[36m \u001b[0m│\u001b[35m \u001b[0m\u001b[35m   0.5079993009567261    \u001b[0m\u001b[35m \u001b[0m│\n",
       "└───────────────────────────┴───────────────────────────┘\n"
      ]
     },
     "metadata": {},
     "output_type": "display_data"
    },
    {
     "data": {
      "text/html": [
       "<pre style=\"white-space:pre;overflow-x:auto;line-height:normal;font-family:Menlo,'DejaVu Sans Mono',consolas,'Courier New',monospace\"></pre>\n"
      ],
      "text/plain": []
     },
     "metadata": {},
     "output_type": "display_data"
    },
    {
     "name": "stdout",
     "output_type": "stream",
     "text": [
      "RMSE: 117270\n",
      "R2 score: 0.5080\n"
     ]
    }
   ],
   "source": [
    "b1_model = TabularModel.load_model(\"models/b1_model\")\n",
    "\n",
    "df = pd.read_csv('hdb_price_prediction.csv')\n",
    "df_test = df[df[\"year\"] == 2022]\n",
    "\n",
    "pred = b1_model.predict(df_test)\n",
    "test_results = b1_model.evaluate(df_test)\n",
    "print(f\"RMSE: {np.sqrt(test_results[0]['test_mean_squared_error']):.0f}\")\n",
    "print(f\"R2 score: {test_results[0]['test_r2_score']:.4f}\")"
   ]
  },
  {
   "cell_type": "markdown",
   "metadata": {},
   "source": [
    "> Evaluate your model from B1 on data from year 2023 and report the test R2."
   ]
  },
  {
   "cell_type": "code",
   "execution_count": 15,
   "metadata": {},
   "outputs": [
    {
     "data": {
      "application/vnd.jupyter.widget-view+json": {
       "model_id": "1bb015eb12194cf3af30598749ddb5ee",
       "version_major": 2,
       "version_minor": 0
      },
      "text/plain": [
       "Output()"
      ]
     },
     "metadata": {},
     "output_type": "display_data"
    },
    {
     "name": "stderr",
     "output_type": "stream",
     "text": [
      "/Users/yuki/Library/Mobile Documents/com~apple~CloudDocs/NTU/Y2S2/SC4001/Projects/Assignment1/.venv/lib/python3.11/site-packages/pytorch_lightning/trainer/connectors/data_connector.py:424: The 'test_dataloader' does not have many workers which may be a bottleneck. Consider increasing the value of the `num_workers` argument` to `num_workers=9` in the `DataLoader` to improve performance.\n"
     ]
    },
    {
     "data": {
      "text/html": [
       "<pre style=\"white-space:pre;overflow-x:auto;line-height:normal;font-family:Menlo,'DejaVu Sans Mono',consolas,'Courier New',monospace\">┏━━━━━━━━━━━━━━━━━━━━━━━━━━━┳━━━━━━━━━━━━━━━━━━━━━━━━━━━┓\n",
       "┃<span style=\"font-weight: bold\">        Test metric        </span>┃<span style=\"font-weight: bold\">       DataLoader 0        </span>┃\n",
       "┡━━━━━━━━━━━━━━━━━━━━━━━━━━━╇━━━━━━━━━━━━━━━━━━━━━━━━━━━┩\n",
       "│<span style=\"color: #008080; text-decoration-color: #008080\">         test_loss         </span>│<span style=\"color: #800080; text-decoration-color: #800080\">       22023643136.0       </span>│\n",
       "│<span style=\"color: #008080; text-decoration-color: #008080\">  test_mean_squared_error  </span>│<span style=\"color: #800080; text-decoration-color: #800080\">       22023643136.0       </span>│\n",
       "│<span style=\"color: #008080; text-decoration-color: #008080\">       test_r2_score       </span>│<span style=\"color: #800080; text-decoration-color: #800080\">    0.22778698801994324    </span>│\n",
       "└───────────────────────────┴───────────────────────────┘\n",
       "</pre>\n"
      ],
      "text/plain": [
       "┏━━━━━━━━━━━━━━━━━━━━━━━━━━━┳━━━━━━━━━━━━━━━━━━━━━━━━━━━┓\n",
       "┃\u001b[1m \u001b[0m\u001b[1m       Test metric       \u001b[0m\u001b[1m \u001b[0m┃\u001b[1m \u001b[0m\u001b[1m      DataLoader 0       \u001b[0m\u001b[1m \u001b[0m┃\n",
       "┡━━━━━━━━━━━━━━━━━━━━━━━━━━━╇━━━━━━━━━━━━━━━━━━━━━━━━━━━┩\n",
       "│\u001b[36m \u001b[0m\u001b[36m        test_loss        \u001b[0m\u001b[36m \u001b[0m│\u001b[35m \u001b[0m\u001b[35m      22023643136.0      \u001b[0m\u001b[35m \u001b[0m│\n",
       "│\u001b[36m \u001b[0m\u001b[36m test_mean_squared_error \u001b[0m\u001b[36m \u001b[0m│\u001b[35m \u001b[0m\u001b[35m      22023643136.0      \u001b[0m\u001b[35m \u001b[0m│\n",
       "│\u001b[36m \u001b[0m\u001b[36m      test_r2_score      \u001b[0m\u001b[36m \u001b[0m│\u001b[35m \u001b[0m\u001b[35m   0.22778698801994324   \u001b[0m\u001b[35m \u001b[0m│\n",
       "└───────────────────────────┴───────────────────────────┘\n"
      ]
     },
     "metadata": {},
     "output_type": "display_data"
    },
    {
     "data": {
      "text/html": [
       "<pre style=\"white-space:pre;overflow-x:auto;line-height:normal;font-family:Menlo,'DejaVu Sans Mono',consolas,'Courier New',monospace\"></pre>\n"
      ],
      "text/plain": []
     },
     "metadata": {},
     "output_type": "display_data"
    },
    {
     "name": "stdout",
     "output_type": "stream",
     "text": [
      "RMSE: 148404\n",
      "R2 score: 0.2278\n"
     ]
    }
   ],
   "source": [
    "df_test = df[df[\"year\"] == 2023]\n",
    "\n",
    "pred = b1_model.predict(df_test)\n",
    "test_results = tabular_model.evaluate(df_test)\n",
    "print(f\"RMSE: {np.sqrt(test_results[0]['test_mean_squared_error']):.0f}\")\n",
    "print(f\"R2 score: {test_results[0]['test_r2_score']:.4f}\")"
   ]
  },
  {
   "cell_type": "markdown",
   "metadata": {},
   "source": [
    "> Did model degradation occur for the deep learning model?"
   ]
  },
  {
   "cell_type": "markdown",
   "metadata": {},
   "source": [
    "\\# TODO: \\<Enter your answer here\\>"
   ]
  },
  {
   "cell_type": "markdown",
   "metadata": {},
   "source": [
    "Model degradation could be caused by [various data distribution shifts](https://huyenchip.com/2022/02/07/data-distribution-shifts-and-monitoring.html#data-shift-types): covariate shift (features), label shift and/or concept drift (altered relationship between features and labels).\n",
    "There are various conflicting terminologies in the [literature](https://www.sciencedirect.com/science/article/pii/S0950705122002854#tbl1). Let’s stick to this reference for this assignment.\n",
    "\n",
    "> Using the **Alibi Detect** library, apply the **TabularDrift** function with the training data (year 2020 and before) used as the reference and **detect which features have drifted** in the 2023 test dataset. Before running the statistical tests, ensure you **sample 1000 data points** each from the train and test data. Do not use the whole train/test data. (Hint: use this example as a guide https://docs.seldon.io/projects/alibi-detect/en/stable/examples/cd_chi2ks_adult.html)\n"
   ]
  },
  {
   "cell_type": "code",
   "execution_count": 39,
   "metadata": {},
   "outputs": [],
   "source": [
    "continuous_cols=[\"dist_to_nearest_stn\", \"dist_to_dhoby\", \"degree_centrality\",\n",
    "                     \"eigenvector_centrality\", \"remaining_lease_years\", \"floor_area_sqm\"]\n",
    "categorical_cols=[\"month\", \"town\", \"flat_model_type\", \"storey_range\"]\n",
    "target = ['resale_price']\n",
    "\n",
    "category_map = {}\n",
    "for i, col in enumerate(categorical_cols):\n",
    "    category_map[i] = df[col].unique().tolist()\n",
    "\n",
    "n_ref = 1000\n",
    "n_test = 1000\n",
    "\n",
    "df_ref = df[df[\"year\"] <= 2020]\n",
    "df_ref = df_ref[:n_ref]\n",
    "\n",
    "df_test = df[df[\"year\"] == 2023]\n",
    "df_test = df_test[:n_test]\n",
    "\n",
    "X_ref = df_ref.drop(target, axis=1).values\n",
    "X_test = df_test.drop(target, axis=1).values"
   ]
  },
  {
   "cell_type": "code",
   "execution_count": null,
   "metadata": {},
   "outputs": [
    {
     "name": "stdout",
     "output_type": "stream",
     "text": [
      "Drift? Yes!\n"
     ]
    }
   ],
   "source": [
    "categories_per_feature = {f: None for f in list(category_map.keys())}\n",
    "cd = TabularDrift(X_ref, p_val=.05, categories_per_feature=categories_per_feature, n_features=10) # TODO: Check what is n_features\n",
    "preds = cd.predict(X_test)\n",
    "labels = ['No!', 'Yes!']\n",
    "print('Drift? {}'.format(labels[preds['data']['is_drift']]))"
   ]
  },
  {
   "cell_type": "code",
   "execution_count": null,
   "metadata": {},
   "outputs": [
    {
     "name": "stdout",
     "output_type": "stream",
     "text": [
      "month -- Chi2 0.000 -- p-value 1.000\n",
      "town -- Chi2 1996.002 -- p-value 0.000\n",
      "flat_model_type -- Chi2 667.474 -- p-value 0.000\n",
      "storey_range -- Chi2 1750.200 -- p-value 0.004\n",
      "dist_to_nearest_stn -- K-S 0.251 -- p-value 0.000\n",
      "dist_to_dhoby -- K-S 0.055 -- p-value 0.094\n",
      "degree_centrality -- K-S 0.218 -- p-value 0.000\n",
      "eigenvector_centrality -- K-S 0.029 -- p-value 0.783\n",
      "remaining_lease_years -- K-S 0.195 -- p-value 0.000\n",
      "floor_area_sqm -- K-S 0.080 -- p-value 0.003\n"
     ]
    }
   ],
   "source": [
    "feature_names = categorical_cols + continuous_cols\n",
    "for f in range(cd.n_features):\n",
    "    stat = 'Chi2' if f in list(categories_per_feature.keys()) else 'K-S'\n",
    "    fname = feature_names[f]\n",
    "    stat_val, p_val = preds['data']['distance'][f], preds['data']['p_val'][f]\n",
    "    print(f'{fname} -- {stat} {stat_val:.3f} -- p-value {p_val:.3f}')"
   ]
  },
  {
   "cell_type": "markdown",
   "metadata": {},
   "source": [
    "> Assuming that the flurry of housing measures have made an impact on the relationship between all the features and resale_price (i.e. P(Y|X) changes), which type of data distribution shift possibly led to model degradation?"
   ]
  },
  {
   "cell_type": "markdown",
   "metadata": {},
   "source": [
    "\\# TODO: \\<Enter your answer here\\>"
   ]
  },
  {
   "cell_type": "markdown",
   "metadata": {},
   "source": [
    "> From your analysis via TabularDrift, which features contribute to this shift?"
   ]
  },
  {
   "cell_type": "markdown",
   "metadata": {},
   "source": [
    "\\# TODO: \\<Enter your answer here\\>"
   ]
  },
  {
   "cell_type": "markdown",
   "metadata": {},
   "source": [
    "> Suggest 1 way to address model degradation and implement it, showing improved test R2 for year 2023."
   ]
  },
  {
   "cell_type": "markdown",
   "metadata": {},
   "source": [
    "\\# TODO: \\<Enter your answer here\\>"
   ]
  },
  {
   "cell_type": "code",
   "execution_count": null,
   "metadata": {},
   "outputs": [],
   "source": [
    "# TODO: Enter your code here"
   ]
  }
 ],
 "metadata": {
  "colab": {
   "authorship_tag": "ABX9TyOG8ZhA98h3O6fnefkjOU9w",
   "provenance": []
  },
  "kernelspec": {
   "display_name": ".venv",
   "language": "python",
   "name": "python3"
  },
  "language_info": {
   "codemirror_mode": {
    "name": "ipython",
    "version": 3
   },
   "file_extension": ".py",
   "mimetype": "text/x-python",
   "name": "python",
   "nbconvert_exporter": "python",
   "pygments_lexer": "ipython3",
   "version": "3.11.11"
  }
 },
 "nbformat": 4,
 "nbformat_minor": 4
}
